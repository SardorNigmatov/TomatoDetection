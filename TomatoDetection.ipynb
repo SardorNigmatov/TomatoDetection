{
  "nbformat": 4,
  "nbformat_minor": 0,
  "metadata": {
    "colab": {
      "provenance": [],
      "gpuType": "T4"
    },
    "kernelspec": {
      "name": "python3",
      "display_name": "Python 3"
    },
    "language_info": {
      "name": "python"
    },
    "accelerator": "GPU"
  },
  "cells": [
    {
      "cell_type": "code",
      "execution_count": 1,
      "metadata": {
        "colab": {
          "base_uri": "https://localhost:8080/"
        },
        "id": "e1Dp20c-Vb53",
        "outputId": "16e9d218-fb1c-434c-8d22-c7c3432ec0c0"
      },
      "outputs": [
        {
          "output_type": "stream",
          "name": "stdout",
          "text": [
            "Mounted at /content/drive\n"
          ]
        }
      ],
      "source": [
        "from google.colab import drive\n",
        "drive.mount('/content/drive')"
      ]
    },
    {
      "cell_type": "code",
      "source": [
        "!pip install ultralytics"
      ],
      "metadata": {
        "id": "i8Rf1l7AVyJF"
      },
      "execution_count": null,
      "outputs": []
    },
    {
      "cell_type": "code",
      "source": [
        "import zipfile\n",
        "import os\n",
        "\n",
        "zip_file_path = \"/content/drive/MyDrive/TomatoDetectionDataset.zip\"\n",
        "\n",
        "\n",
        "extract_path = '/content/TomatoDetectionDataset'\n",
        "\n",
        "os.makedirs(extract_path, exist_ok=True)\n",
        "\n",
        "with zipfile.ZipFile(zip_file_path, 'r') as zip_ref:\n",
        "    zip_ref.extractall(extract_path)"
      ],
      "metadata": {
        "id": "wcYgWLZlVlF2"
      },
      "execution_count": 3,
      "outputs": []
    },
    {
      "cell_type": "code",
      "source": [
        "from ultralytics import YOLO\n",
        "\n",
        "model = YOLO(\"yolo11x.pt\")\n",
        "\n",
        "results = model.train(data=\"/content/TomatoDetectionDataset/TomatoDetectionDataset/data.yaml\", epochs=100, imgsz=640,batch=8)"
      ],
      "metadata": {
        "colab": {
          "base_uri": "https://localhost:8080/"
        },
        "id": "--fhHaPcVmu-",
        "outputId": "290214e6-c2d4-447b-f429-685f913139de"
      },
      "execution_count": 4,
      "outputs": [
        {
          "output_type": "stream",
          "name": "stdout",
          "text": [
            "Creating new Ultralytics Settings v0.0.6 file ✅ \n",
            "View Ultralytics Settings with 'yolo settings' or at '/root/.config/Ultralytics/settings.json'\n",
            "Update Settings with 'yolo settings key=value', i.e. 'yolo settings runs_dir=path/to/dir'. For help see https://docs.ultralytics.com/quickstart/#ultralytics-settings.\n",
            "Downloading https://github.com/ultralytics/assets/releases/download/v8.3.0/yolo11x.pt to 'yolo11x.pt'...\n"
          ]
        },
        {
          "output_type": "stream",
          "name": "stderr",
          "text": [
            "100%|██████████| 109M/109M [00:01<00:00, 85.0MB/s]\n"
          ]
        },
        {
          "output_type": "stream",
          "name": "stdout",
          "text": [
            "Ultralytics 8.3.51 🚀 Python-3.10.12 torch-2.5.1+cu121 CUDA:0 (Tesla T4, 15102MiB)\n",
            "\u001b[34m\u001b[1mengine/trainer: \u001b[0mtask=detect, mode=train, model=yolo11x.pt, data=/content/TomatoDetectionDataset/TomatoDetectionDataset/data.yaml, epochs=100, time=None, patience=100, batch=8, imgsz=640, save=True, save_period=-1, cache=False, device=None, workers=8, project=None, name=train, exist_ok=False, pretrained=True, optimizer=auto, verbose=True, seed=0, deterministic=True, single_cls=False, rect=False, cos_lr=False, close_mosaic=10, resume=False, amp=True, fraction=1.0, profile=False, freeze=None, multi_scale=False, overlap_mask=True, mask_ratio=4, dropout=0.0, val=True, split=val, save_json=False, save_hybrid=False, conf=None, iou=0.7, max_det=300, half=False, dnn=False, plots=True, source=None, vid_stride=1, stream_buffer=False, visualize=False, augment=False, agnostic_nms=False, classes=None, retina_masks=False, embed=None, show=False, save_frames=False, save_txt=False, save_conf=False, save_crop=False, show_labels=True, show_conf=True, show_boxes=True, line_width=None, format=torchscript, keras=False, optimize=False, int8=False, dynamic=False, simplify=True, opset=None, workspace=None, nms=False, lr0=0.01, lrf=0.01, momentum=0.937, weight_decay=0.0005, warmup_epochs=3.0, warmup_momentum=0.8, warmup_bias_lr=0.1, box=7.5, cls=0.5, dfl=1.5, pose=12.0, kobj=1.0, nbs=64, hsv_h=0.015, hsv_s=0.7, hsv_v=0.4, degrees=0.0, translate=0.1, scale=0.5, shear=0.0, perspective=0.0, flipud=0.0, fliplr=0.5, bgr=0.0, mosaic=1.0, mixup=0.0, copy_paste=0.0, copy_paste_mode=flip, auto_augment=randaugment, erasing=0.4, crop_fraction=1.0, cfg=None, tracker=botsort.yaml, save_dir=runs/detect/train\n",
            "Downloading https://ultralytics.com/assets/Arial.ttf to '/root/.config/Ultralytics/Arial.ttf'...\n"
          ]
        },
        {
          "output_type": "stream",
          "name": "stderr",
          "text": [
            "100%|██████████| 755k/755k [00:00<00:00, 34.6MB/s]\n"
          ]
        },
        {
          "output_type": "stream",
          "name": "stdout",
          "text": [
            "Overriding model.yaml nc=80 with nc=6\n",
            "\n",
            "                   from  n    params  module                                       arguments                     \n",
            "  0                  -1  1      2784  ultralytics.nn.modules.conv.Conv             [3, 96, 3, 2]                 \n",
            "  1                  -1  1    166272  ultralytics.nn.modules.conv.Conv             [96, 192, 3, 2]               \n",
            "  2                  -1  2    389760  ultralytics.nn.modules.block.C3k2            [192, 384, 2, True, 0.25]     \n",
            "  3                  -1  1   1327872  ultralytics.nn.modules.conv.Conv             [384, 384, 3, 2]              \n",
            "  4                  -1  2   1553664  ultralytics.nn.modules.block.C3k2            [384, 768, 2, True, 0.25]     \n",
            "  5                  -1  1   5309952  ultralytics.nn.modules.conv.Conv             [768, 768, 3, 2]              \n",
            "  6                  -1  2   5022720  ultralytics.nn.modules.block.C3k2            [768, 768, 2, True]           \n",
            "  7                  -1  1   5309952  ultralytics.nn.modules.conv.Conv             [768, 768, 3, 2]              \n",
            "  8                  -1  2   5022720  ultralytics.nn.modules.block.C3k2            [768, 768, 2, True]           \n",
            "  9                  -1  1   1476864  ultralytics.nn.modules.block.SPPF            [768, 768, 5]                 \n",
            " 10                  -1  2   3264768  ultralytics.nn.modules.block.C2PSA           [768, 768, 2]                 \n",
            " 11                  -1  1         0  torch.nn.modules.upsampling.Upsample         [None, 2, 'nearest']          \n",
            " 12             [-1, 6]  1         0  ultralytics.nn.modules.conv.Concat           [1]                           \n",
            " 13                  -1  2   5612544  ultralytics.nn.modules.block.C3k2            [1536, 768, 2, True]          \n",
            " 14                  -1  1         0  torch.nn.modules.upsampling.Upsample         [None, 2, 'nearest']          \n",
            " 15             [-1, 4]  1         0  ultralytics.nn.modules.conv.Concat           [1]                           \n",
            " 16                  -1  2   1700352  ultralytics.nn.modules.block.C3k2            [1536, 384, 2, True]          \n",
            " 17                  -1  1   1327872  ultralytics.nn.modules.conv.Conv             [384, 384, 3, 2]              \n",
            " 18            [-1, 13]  1         0  ultralytics.nn.modules.conv.Concat           [1]                           \n",
            " 19                  -1  2   5317632  ultralytics.nn.modules.block.C3k2            [1152, 768, 2, True]          \n",
            " 20                  -1  1   5309952  ultralytics.nn.modules.conv.Conv             [768, 768, 3, 2]              \n",
            " 21            [-1, 10]  1         0  ultralytics.nn.modules.conv.Concat           [1]                           \n",
            " 22                  -1  2   5612544  ultralytics.nn.modules.block.C3k2            [1536, 768, 2, True]          \n",
            " 23        [16, 19, 22]  1   3152482  ultralytics.nn.modules.head.Detect           [6, [384, 768, 768]]          \n",
            "YOLO11x summary: 631 layers, 56,880,706 parameters, 56,880,690 gradients, 195.5 GFLOPs\n",
            "\n",
            "Transferred 1009/1015 items from pretrained weights\n",
            "\u001b[34m\u001b[1mTensorBoard: \u001b[0mStart with 'tensorboard --logdir runs/detect/train', view at http://localhost:6006/\n",
            "Freezing layer 'model.23.dfl.conv.weight'\n",
            "\u001b[34m\u001b[1mAMP: \u001b[0mrunning Automatic Mixed Precision (AMP) checks...\n",
            "Downloading https://github.com/ultralytics/assets/releases/download/v8.3.0/yolo11n.pt to 'yolo11n.pt'...\n"
          ]
        },
        {
          "output_type": "stream",
          "name": "stderr",
          "text": [
            "100%|██████████| 5.35M/5.35M [00:00<00:00, 161MB/s]\n"
          ]
        },
        {
          "output_type": "stream",
          "name": "stdout",
          "text": [
            "\u001b[34m\u001b[1mAMP: \u001b[0mchecks passed ✅\n"
          ]
        },
        {
          "output_type": "stream",
          "name": "stderr",
          "text": [
            "\u001b[34m\u001b[1mtrain: \u001b[0mScanning /content/TomatoDetectionDataset/TomatoDetectionDataset/train/labels... 643 images, 0 backgrounds, 0 corrupt: 100%|██████████| 643/643 [00:00<00:00, 1699.29it/s]"
          ]
        },
        {
          "output_type": "stream",
          "name": "stdout",
          "text": [
            "\u001b[34m\u001b[1mtrain: \u001b[0mNew cache created: /content/TomatoDetectionDataset/TomatoDetectionDataset/train/labels.cache\n"
          ]
        },
        {
          "output_type": "stream",
          "name": "stderr",
          "text": [
            "\n"
          ]
        },
        {
          "output_type": "stream",
          "name": "stdout",
          "text": [
            "\u001b[34m\u001b[1malbumentations: \u001b[0mBlur(p=0.01, blur_limit=(3, 7)), MedianBlur(p=0.01, blur_limit=(3, 7)), ToGray(p=0.01, num_output_channels=3, method='weighted_average'), CLAHE(p=0.01, clip_limit=(1.0, 4.0), tile_grid_size=(8, 8))\n"
          ]
        },
        {
          "output_type": "stream",
          "name": "stderr",
          "text": [
            "/usr/local/lib/python3.10/dist-packages/albumentations/__init__.py:24: UserWarning: A new version of Albumentations is available: 1.4.23 (you have 1.4.20). Upgrade using: pip install -U albumentations. To disable automatic update checks, set the environment variable NO_ALBUMENTATIONS_UPDATE to 1.\n",
            "  check_for_updates()\n",
            "\u001b[34m\u001b[1mval: \u001b[0mScanning /content/TomatoDetectionDataset/TomatoDetectionDataset/valid/labels... 161 images, 0 backgrounds, 0 corrupt: 100%|██████████| 161/161 [00:00<00:00, 1169.58it/s]"
          ]
        },
        {
          "output_type": "stream",
          "name": "stdout",
          "text": [
            "\u001b[34m\u001b[1mval: \u001b[0mNew cache created: /content/TomatoDetectionDataset/TomatoDetectionDataset/valid/labels.cache\n"
          ]
        },
        {
          "output_type": "stream",
          "name": "stderr",
          "text": [
            "\n"
          ]
        },
        {
          "output_type": "stream",
          "name": "stdout",
          "text": [
            "Plotting labels to runs/detect/train/labels.jpg... \n",
            "\u001b[34m\u001b[1moptimizer:\u001b[0m 'optimizer=auto' found, ignoring 'lr0=0.01' and 'momentum=0.937' and determining best 'optimizer', 'lr0' and 'momentum' automatically... \n",
            "\u001b[34m\u001b[1moptimizer:\u001b[0m AdamW(lr=0.001, momentum=0.9) with parameter groups 167 weight(decay=0.0), 174 weight(decay=0.0005), 173 bias(decay=0.0)\n",
            "\u001b[34m\u001b[1mTensorBoard: \u001b[0mmodel graph visualization added ✅\n",
            "Image sizes 640 train, 640 val\n",
            "Using 2 dataloader workers\n",
            "Logging results to \u001b[1mruns/detect/train\u001b[0m\n",
            "Starting training for 100 epochs...\n",
            "\n",
            "      Epoch    GPU_mem   box_loss   cls_loss   dfl_loss  Instances       Size\n"
          ]
        },
        {
          "output_type": "stream",
          "name": "stderr",
          "text": [
            "      1/100      9.33G     0.8271      1.597      1.075         25        640: 100%|██████████| 81/81 [00:51<00:00,  1.57it/s]\n",
            "                 Class     Images  Instances      Box(P          R      mAP50  mAP50-95): 100%|██████████| 11/11 [00:06<00:00,  1.65it/s]"
          ]
        },
        {
          "output_type": "stream",
          "name": "stdout",
          "text": [
            "                   all        161       1996      0.217      0.427      0.238      0.182\n"
          ]
        },
        {
          "output_type": "stream",
          "name": "stderr",
          "text": [
            "\n"
          ]
        },
        {
          "output_type": "stream",
          "name": "stdout",
          "text": [
            "\n",
            "      Epoch    GPU_mem   box_loss   cls_loss   dfl_loss  Instances       Size\n"
          ]
        },
        {
          "output_type": "stream",
          "name": "stderr",
          "text": [
            "      2/100      9.07G     0.8692      1.221      1.094         61        640: 100%|██████████| 81/81 [00:49<00:00,  1.65it/s]\n",
            "                 Class     Images  Instances      Box(P          R      mAP50  mAP50-95): 100%|██████████| 11/11 [00:05<00:00,  2.00it/s]"
          ]
        },
        {
          "output_type": "stream",
          "name": "stdout",
          "text": [
            "                   all        161       1996       0.29      0.395      0.251      0.186\n"
          ]
        },
        {
          "output_type": "stream",
          "name": "stderr",
          "text": [
            "\n"
          ]
        },
        {
          "output_type": "stream",
          "name": "stdout",
          "text": [
            "\n",
            "      Epoch    GPU_mem   box_loss   cls_loss   dfl_loss  Instances       Size\n"
          ]
        },
        {
          "output_type": "stream",
          "name": "stderr",
          "text": [
            "      3/100      8.96G     0.8964      1.227      1.119         22        640: 100%|██████████| 81/81 [00:49<00:00,  1.64it/s]\n",
            "                 Class     Images  Instances      Box(P          R      mAP50  mAP50-95): 100%|██████████| 11/11 [00:05<00:00,  2.13it/s]"
          ]
        },
        {
          "output_type": "stream",
          "name": "stdout",
          "text": [
            "                   all        161       1996      0.368      0.524      0.388       0.29\n"
          ]
        },
        {
          "output_type": "stream",
          "name": "stderr",
          "text": [
            "\n"
          ]
        },
        {
          "output_type": "stream",
          "name": "stdout",
          "text": [
            "\n",
            "      Epoch    GPU_mem   box_loss   cls_loss   dfl_loss  Instances       Size\n"
          ]
        },
        {
          "output_type": "stream",
          "name": "stderr",
          "text": [
            "      4/100      9.06G     0.8662      1.147      1.097         40        640: 100%|██████████| 81/81 [00:50<00:00,  1.62it/s]\n",
            "                 Class     Images  Instances      Box(P          R      mAP50  mAP50-95): 100%|██████████| 11/11 [00:05<00:00,  2.06it/s]"
          ]
        },
        {
          "output_type": "stream",
          "name": "stdout",
          "text": [
            "                   all        161       1996      0.584      0.528      0.543      0.423\n"
          ]
        },
        {
          "output_type": "stream",
          "name": "stderr",
          "text": [
            "\n"
          ]
        },
        {
          "output_type": "stream",
          "name": "stdout",
          "text": [
            "\n",
            "      Epoch    GPU_mem   box_loss   cls_loss   dfl_loss  Instances       Size\n"
          ]
        },
        {
          "output_type": "stream",
          "name": "stderr",
          "text": [
            "      5/100      9.04G     0.8696      1.074      1.086         40        640: 100%|██████████| 81/81 [00:51<00:00,  1.59it/s]\n",
            "                 Class     Images  Instances      Box(P          R      mAP50  mAP50-95): 100%|██████████| 11/11 [00:05<00:00,  2.08it/s]\n"
          ]
        },
        {
          "output_type": "stream",
          "name": "stdout",
          "text": [
            "                   all        161       1996       0.66      0.587      0.634      0.478\n",
            "\n",
            "      Epoch    GPU_mem   box_loss   cls_loss   dfl_loss  Instances       Size\n"
          ]
        },
        {
          "output_type": "stream",
          "name": "stderr",
          "text": [
            "      6/100      8.87G     0.8424      1.027      1.078         58        640: 100%|██████████| 81/81 [00:50<00:00,  1.61it/s]\n",
            "                 Class     Images  Instances      Box(P          R      mAP50  mAP50-95): 100%|██████████| 11/11 [00:05<00:00,  2.13it/s]"
          ]
        },
        {
          "output_type": "stream",
          "name": "stdout",
          "text": [
            "                   all        161       1996      0.513      0.634      0.587      0.451\n"
          ]
        },
        {
          "output_type": "stream",
          "name": "stderr",
          "text": [
            "\n"
          ]
        },
        {
          "output_type": "stream",
          "name": "stdout",
          "text": [
            "\n",
            "      Epoch    GPU_mem   box_loss   cls_loss   dfl_loss  Instances       Size\n"
          ]
        },
        {
          "output_type": "stream",
          "name": "stderr",
          "text": [
            "      7/100      9.12G     0.7894     0.9588      1.056         77        640: 100%|██████████| 81/81 [00:50<00:00,  1.60it/s]\n",
            "                 Class     Images  Instances      Box(P          R      mAP50  mAP50-95): 100%|██████████| 11/11 [00:05<00:00,  2.12it/s]"
          ]
        },
        {
          "output_type": "stream",
          "name": "stdout",
          "text": [
            "                   all        161       1996      0.649      0.568      0.639      0.514\n"
          ]
        },
        {
          "output_type": "stream",
          "name": "stderr",
          "text": [
            "\n"
          ]
        },
        {
          "output_type": "stream",
          "name": "stdout",
          "text": [
            "\n",
            "      Epoch    GPU_mem   box_loss   cls_loss   dfl_loss  Instances       Size\n"
          ]
        },
        {
          "output_type": "stream",
          "name": "stderr",
          "text": [
            "      8/100      9.06G     0.7833     0.9305      1.047         40        640: 100%|██████████| 81/81 [00:50<00:00,  1.60it/s]\n",
            "                 Class     Images  Instances      Box(P          R      mAP50  mAP50-95): 100%|██████████| 11/11 [00:05<00:00,  2.18it/s]\n"
          ]
        },
        {
          "output_type": "stream",
          "name": "stdout",
          "text": [
            "                   all        161       1996      0.647      0.693      0.727      0.576\n",
            "\n",
            "      Epoch    GPU_mem   box_loss   cls_loss   dfl_loss  Instances       Size\n"
          ]
        },
        {
          "output_type": "stream",
          "name": "stderr",
          "text": [
            "      9/100      9.12G     0.7711     0.9485      1.036         47        640: 100%|██████████| 81/81 [00:50<00:00,  1.59it/s]\n",
            "                 Class     Images  Instances      Box(P          R      mAP50  mAP50-95): 100%|██████████| 11/11 [00:05<00:00,  2.14it/s]\n"
          ]
        },
        {
          "output_type": "stream",
          "name": "stdout",
          "text": [
            "                   all        161       1996      0.642      0.638      0.673      0.513\n",
            "\n",
            "      Epoch    GPU_mem   box_loss   cls_loss   dfl_loss  Instances       Size\n"
          ]
        },
        {
          "output_type": "stream",
          "name": "stderr",
          "text": [
            "     10/100      9.11G     0.7714     0.8914      1.047         52        640: 100%|██████████| 81/81 [00:50<00:00,  1.60it/s]\n",
            "                 Class     Images  Instances      Box(P          R      mAP50  mAP50-95): 100%|██████████| 11/11 [00:05<00:00,  2.07it/s]\n"
          ]
        },
        {
          "output_type": "stream",
          "name": "stdout",
          "text": [
            "                   all        161       1996      0.645      0.607      0.652      0.513\n",
            "\n",
            "      Epoch    GPU_mem   box_loss   cls_loss   dfl_loss  Instances       Size\n"
          ]
        },
        {
          "output_type": "stream",
          "name": "stderr",
          "text": [
            "     11/100      9.11G     0.7517     0.9191      1.042         38        640: 100%|██████████| 81/81 [00:50<00:00,  1.59it/s]\n",
            "                 Class     Images  Instances      Box(P          R      mAP50  mAP50-95): 100%|██████████| 11/11 [00:04<00:00,  2.22it/s]"
          ]
        },
        {
          "output_type": "stream",
          "name": "stdout",
          "text": [
            "                   all        161       1996      0.719      0.706      0.771      0.619\n"
          ]
        },
        {
          "output_type": "stream",
          "name": "stderr",
          "text": [
            "\n"
          ]
        },
        {
          "output_type": "stream",
          "name": "stdout",
          "text": [
            "\n",
            "      Epoch    GPU_mem   box_loss   cls_loss   dfl_loss  Instances       Size\n"
          ]
        },
        {
          "output_type": "stream",
          "name": "stderr",
          "text": [
            "     12/100       9.1G     0.7649     0.8732      1.038         35        640: 100%|██████████| 81/81 [00:50<00:00,  1.60it/s]\n",
            "                 Class     Images  Instances      Box(P          R      mAP50  mAP50-95): 100%|██████████| 11/11 [00:04<00:00,  2.23it/s]"
          ]
        },
        {
          "output_type": "stream",
          "name": "stdout",
          "text": [
            "                   all        161       1996      0.679      0.636      0.687      0.553\n"
          ]
        },
        {
          "output_type": "stream",
          "name": "stderr",
          "text": [
            "\n"
          ]
        },
        {
          "output_type": "stream",
          "name": "stdout",
          "text": [
            "\n",
            "      Epoch    GPU_mem   box_loss   cls_loss   dfl_loss  Instances       Size\n"
          ]
        },
        {
          "output_type": "stream",
          "name": "stderr",
          "text": [
            "     13/100      9.08G     0.7603     0.8711      1.026         57        640: 100%|██████████| 81/81 [00:50<00:00,  1.60it/s]\n",
            "                 Class     Images  Instances      Box(P          R      mAP50  mAP50-95): 100%|██████████| 11/11 [00:04<00:00,  2.25it/s]"
          ]
        },
        {
          "output_type": "stream",
          "name": "stdout",
          "text": [
            "                   all        161       1996      0.697      0.706      0.738      0.585\n"
          ]
        },
        {
          "output_type": "stream",
          "name": "stderr",
          "text": [
            "\n"
          ]
        },
        {
          "output_type": "stream",
          "name": "stdout",
          "text": [
            "\n",
            "      Epoch    GPU_mem   box_loss   cls_loss   dfl_loss  Instances       Size\n"
          ]
        },
        {
          "output_type": "stream",
          "name": "stderr",
          "text": [
            "     14/100      8.85G     0.7368     0.8355      1.014         38        640: 100%|██████████| 81/81 [00:51<00:00,  1.58it/s]\n",
            "                 Class     Images  Instances      Box(P          R      mAP50  mAP50-95): 100%|██████████| 11/11 [00:05<00:00,  2.05it/s]\n"
          ]
        },
        {
          "output_type": "stream",
          "name": "stdout",
          "text": [
            "                   all        161       1996      0.729      0.711      0.784       0.63\n",
            "\n",
            "      Epoch    GPU_mem   box_loss   cls_loss   dfl_loss  Instances       Size\n"
          ]
        },
        {
          "output_type": "stream",
          "name": "stderr",
          "text": [
            "     15/100      9.13G     0.7256     0.8006      1.016         32        640: 100%|██████████| 81/81 [00:52<00:00,  1.53it/s]\n",
            "                 Class     Images  Instances      Box(P          R      mAP50  mAP50-95): 100%|██████████| 11/11 [00:05<00:00,  2.12it/s]"
          ]
        },
        {
          "output_type": "stream",
          "name": "stdout",
          "text": [
            "                   all        161       1996      0.752       0.69      0.771      0.625\n"
          ]
        },
        {
          "output_type": "stream",
          "name": "stderr",
          "text": [
            "\n"
          ]
        },
        {
          "output_type": "stream",
          "name": "stdout",
          "text": [
            "\n",
            "      Epoch    GPU_mem   box_loss   cls_loss   dfl_loss  Instances       Size\n"
          ]
        },
        {
          "output_type": "stream",
          "name": "stderr",
          "text": [
            "     16/100      9.11G     0.7197     0.8014       1.01        121        640: 100%|██████████| 81/81 [00:52<00:00,  1.54it/s]\n",
            "                 Class     Images  Instances      Box(P          R      mAP50  mAP50-95): 100%|██████████| 11/11 [00:05<00:00,  2.06it/s]"
          ]
        },
        {
          "output_type": "stream",
          "name": "stdout",
          "text": [
            "                   all        161       1996      0.682      0.736       0.77      0.632\n"
          ]
        },
        {
          "output_type": "stream",
          "name": "stderr",
          "text": [
            "\n"
          ]
        },
        {
          "output_type": "stream",
          "name": "stdout",
          "text": [
            "\n",
            "      Epoch    GPU_mem   box_loss   cls_loss   dfl_loss  Instances       Size\n"
          ]
        },
        {
          "output_type": "stream",
          "name": "stderr",
          "text": [
            "     17/100      9.12G     0.7134     0.8207     0.9987         71        640: 100%|██████████| 81/81 [00:52<00:00,  1.54it/s]\n",
            "                 Class     Images  Instances      Box(P          R      mAP50  mAP50-95): 100%|██████████| 11/11 [00:05<00:00,  2.13it/s]"
          ]
        },
        {
          "output_type": "stream",
          "name": "stdout",
          "text": [
            "                   all        161       1996      0.784      0.726       0.81      0.662\n"
          ]
        },
        {
          "output_type": "stream",
          "name": "stderr",
          "text": [
            "\n"
          ]
        },
        {
          "output_type": "stream",
          "name": "stdout",
          "text": [
            "\n",
            "      Epoch    GPU_mem   box_loss   cls_loss   dfl_loss  Instances       Size\n"
          ]
        },
        {
          "output_type": "stream",
          "name": "stderr",
          "text": [
            "     18/100      9.03G     0.6996      0.772     0.9938         31        640: 100%|██████████| 81/81 [00:52<00:00,  1.53it/s]\n",
            "                 Class     Images  Instances      Box(P          R      mAP50  mAP50-95): 100%|██████████| 11/11 [00:05<00:00,  2.06it/s]"
          ]
        },
        {
          "output_type": "stream",
          "name": "stdout",
          "text": [
            "                   all        161       1996      0.771      0.718      0.796      0.647\n"
          ]
        },
        {
          "output_type": "stream",
          "name": "stderr",
          "text": [
            "\n"
          ]
        },
        {
          "output_type": "stream",
          "name": "stdout",
          "text": [
            "\n",
            "      Epoch    GPU_mem   box_loss   cls_loss   dfl_loss  Instances       Size\n"
          ]
        },
        {
          "output_type": "stream",
          "name": "stderr",
          "text": [
            "     19/100      9.08G     0.6996       0.77      1.005         60        640: 100%|██████████| 81/81 [00:52<00:00,  1.56it/s]\n",
            "                 Class     Images  Instances      Box(P          R      mAP50  mAP50-95): 100%|██████████| 11/11 [00:05<00:00,  2.17it/s]"
          ]
        },
        {
          "output_type": "stream",
          "name": "stdout",
          "text": [
            "                   all        161       1996      0.738      0.731      0.795      0.652\n"
          ]
        },
        {
          "output_type": "stream",
          "name": "stderr",
          "text": [
            "\n"
          ]
        },
        {
          "output_type": "stream",
          "name": "stdout",
          "text": [
            "\n",
            "      Epoch    GPU_mem   box_loss   cls_loss   dfl_loss  Instances       Size\n"
          ]
        },
        {
          "output_type": "stream",
          "name": "stderr",
          "text": [
            "     20/100      9.11G     0.6906     0.7408     0.9938        125        640: 100%|██████████| 81/81 [00:52<00:00,  1.54it/s]\n",
            "                 Class     Images  Instances      Box(P          R      mAP50  mAP50-95): 100%|██████████| 11/11 [00:05<00:00,  2.07it/s]"
          ]
        },
        {
          "output_type": "stream",
          "name": "stdout",
          "text": [
            "                   all        161       1996      0.731      0.773      0.807      0.661\n"
          ]
        },
        {
          "output_type": "stream",
          "name": "stderr",
          "text": [
            "\n"
          ]
        },
        {
          "output_type": "stream",
          "name": "stdout",
          "text": [
            "\n",
            "      Epoch    GPU_mem   box_loss   cls_loss   dfl_loss  Instances       Size\n"
          ]
        },
        {
          "output_type": "stream",
          "name": "stderr",
          "text": [
            "     21/100      9.07G      0.679     0.7348     0.9907         61        640: 100%|██████████| 81/81 [00:53<00:00,  1.53it/s]\n",
            "                 Class     Images  Instances      Box(P          R      mAP50  mAP50-95): 100%|██████████| 11/11 [00:05<00:00,  2.02it/s]\n"
          ]
        },
        {
          "output_type": "stream",
          "name": "stdout",
          "text": [
            "                   all        161       1996      0.743      0.739      0.801      0.648\n",
            "\n",
            "      Epoch    GPU_mem   box_loss   cls_loss   dfl_loss  Instances       Size\n"
          ]
        },
        {
          "output_type": "stream",
          "name": "stderr",
          "text": [
            "     22/100      8.86G     0.6742     0.7113     0.9869         46        640: 100%|██████████| 81/81 [00:52<00:00,  1.54it/s]\n",
            "                 Class     Images  Instances      Box(P          R      mAP50  mAP50-95): 100%|██████████| 11/11 [00:05<00:00,  2.06it/s]\n"
          ]
        },
        {
          "output_type": "stream",
          "name": "stdout",
          "text": [
            "                   all        161       1996       0.76      0.724      0.792      0.659\n",
            "\n",
            "      Epoch    GPU_mem   box_loss   cls_loss   dfl_loss  Instances       Size\n"
          ]
        },
        {
          "output_type": "stream",
          "name": "stderr",
          "text": [
            "     23/100      9.14G     0.6598     0.6949     0.9734         39        640: 100%|██████████| 81/81 [00:52<00:00,  1.53it/s]\n",
            "                 Class     Images  Instances      Box(P          R      mAP50  mAP50-95): 100%|██████████| 11/11 [00:05<00:00,  2.15it/s]"
          ]
        },
        {
          "output_type": "stream",
          "name": "stdout",
          "text": [
            "                   all        161       1996      0.785      0.758       0.83      0.693\n"
          ]
        },
        {
          "output_type": "stream",
          "name": "stderr",
          "text": [
            "\n"
          ]
        },
        {
          "output_type": "stream",
          "name": "stdout",
          "text": [
            "\n",
            "      Epoch    GPU_mem   box_loss   cls_loss   dfl_loss  Instances       Size\n"
          ]
        },
        {
          "output_type": "stream",
          "name": "stderr",
          "text": [
            "     24/100      9.12G     0.6704      0.724     0.9956         88        640: 100%|██████████| 81/81 [00:52<00:00,  1.54it/s]\n",
            "                 Class     Images  Instances      Box(P          R      mAP50  mAP50-95): 100%|██████████| 11/11 [00:05<00:00,  2.15it/s]"
          ]
        },
        {
          "output_type": "stream",
          "name": "stdout",
          "text": [
            "                   all        161       1996      0.789      0.743      0.826      0.679\n"
          ]
        },
        {
          "output_type": "stream",
          "name": "stderr",
          "text": [
            "\n"
          ]
        },
        {
          "output_type": "stream",
          "name": "stdout",
          "text": [
            "\n",
            "      Epoch    GPU_mem   box_loss   cls_loss   dfl_loss  Instances       Size\n"
          ]
        },
        {
          "output_type": "stream",
          "name": "stderr",
          "text": [
            "     25/100      9.09G     0.6599     0.6999     0.9788         87        640: 100%|██████████| 81/81 [00:52<00:00,  1.54it/s]\n",
            "                 Class     Images  Instances      Box(P          R      mAP50  mAP50-95): 100%|██████████| 11/11 [00:05<00:00,  2.11it/s]"
          ]
        },
        {
          "output_type": "stream",
          "name": "stdout",
          "text": [
            "                   all        161       1996      0.793      0.708      0.811      0.667\n"
          ]
        },
        {
          "output_type": "stream",
          "name": "stderr",
          "text": [
            "\n"
          ]
        },
        {
          "output_type": "stream",
          "name": "stdout",
          "text": [
            "\n",
            "      Epoch    GPU_mem   box_loss   cls_loss   dfl_loss  Instances       Size\n"
          ]
        },
        {
          "output_type": "stream",
          "name": "stderr",
          "text": [
            "     26/100      9.07G     0.6615     0.6809     0.9786         25        640: 100%|██████████| 81/81 [00:52<00:00,  1.54it/s]\n",
            "                 Class     Images  Instances      Box(P          R      mAP50  mAP50-95): 100%|██████████| 11/11 [00:05<00:00,  2.14it/s]"
          ]
        },
        {
          "output_type": "stream",
          "name": "stdout",
          "text": [
            "                   all        161       1996      0.757      0.748      0.817      0.682\n"
          ]
        },
        {
          "output_type": "stream",
          "name": "stderr",
          "text": [
            "\n"
          ]
        },
        {
          "output_type": "stream",
          "name": "stdout",
          "text": [
            "\n",
            "      Epoch    GPU_mem   box_loss   cls_loss   dfl_loss  Instances       Size\n"
          ]
        },
        {
          "output_type": "stream",
          "name": "stderr",
          "text": [
            "     27/100       9.1G     0.6495     0.6749     0.9695         43        640: 100%|██████████| 81/81 [00:52<00:00,  1.53it/s]\n",
            "                 Class     Images  Instances      Box(P          R      mAP50  mAP50-95): 100%|██████████| 11/11 [00:05<00:00,  2.04it/s]\n"
          ]
        },
        {
          "output_type": "stream",
          "name": "stdout",
          "text": [
            "                   all        161       1996      0.719      0.688      0.762      0.634\n",
            "\n",
            "      Epoch    GPU_mem   box_loss   cls_loss   dfl_loss  Instances       Size\n"
          ]
        },
        {
          "output_type": "stream",
          "name": "stderr",
          "text": [
            "     28/100      9.12G     0.6439     0.6561     0.9602         19        640: 100%|██████████| 81/81 [00:52<00:00,  1.55it/s]\n",
            "                 Class     Images  Instances      Box(P          R      mAP50  mAP50-95): 100%|██████████| 11/11 [00:05<00:00,  2.16it/s]"
          ]
        },
        {
          "output_type": "stream",
          "name": "stdout",
          "text": [
            "                   all        161       1996      0.797      0.766      0.836      0.699\n"
          ]
        },
        {
          "output_type": "stream",
          "name": "stderr",
          "text": [
            "\n"
          ]
        },
        {
          "output_type": "stream",
          "name": "stdout",
          "text": [
            "\n",
            "      Epoch    GPU_mem   box_loss   cls_loss   dfl_loss  Instances       Size\n"
          ]
        },
        {
          "output_type": "stream",
          "name": "stderr",
          "text": [
            "     29/100       9.1G     0.6409     0.6546     0.9706         35        640: 100%|██████████| 81/81 [00:53<00:00,  1.53it/s]\n",
            "                 Class     Images  Instances      Box(P          R      mAP50  mAP50-95): 100%|██████████| 11/11 [00:05<00:00,  2.14it/s]"
          ]
        },
        {
          "output_type": "stream",
          "name": "stdout",
          "text": [
            "                   all        161       1996      0.736      0.768      0.817      0.692\n"
          ]
        },
        {
          "output_type": "stream",
          "name": "stderr",
          "text": [
            "\n"
          ]
        },
        {
          "output_type": "stream",
          "name": "stdout",
          "text": [
            "\n",
            "      Epoch    GPU_mem   box_loss   cls_loss   dfl_loss  Instances       Size\n"
          ]
        },
        {
          "output_type": "stream",
          "name": "stderr",
          "text": [
            "     30/100      8.87G     0.6358     0.6412      0.967         44        640: 100%|██████████| 81/81 [00:52<00:00,  1.54it/s]\n",
            "                 Class     Images  Instances      Box(P          R      mAP50  mAP50-95): 100%|██████████| 11/11 [00:05<00:00,  2.14it/s]"
          ]
        },
        {
          "output_type": "stream",
          "name": "stdout",
          "text": [
            "                   all        161       1996       0.79       0.75      0.832      0.691\n"
          ]
        },
        {
          "output_type": "stream",
          "name": "stderr",
          "text": [
            "\n"
          ]
        },
        {
          "output_type": "stream",
          "name": "stdout",
          "text": [
            "\n",
            "      Epoch    GPU_mem   box_loss   cls_loss   dfl_loss  Instances       Size\n"
          ]
        },
        {
          "output_type": "stream",
          "name": "stderr",
          "text": [
            "     31/100      9.08G     0.6232     0.6585     0.9571         44        640: 100%|██████████| 81/81 [00:53<00:00,  1.53it/s]\n",
            "                 Class     Images  Instances      Box(P          R      mAP50  mAP50-95): 100%|██████████| 11/11 [00:05<00:00,  2.16it/s]"
          ]
        },
        {
          "output_type": "stream",
          "name": "stdout",
          "text": [
            "                   all        161       1996      0.792      0.773      0.839      0.705\n"
          ]
        },
        {
          "output_type": "stream",
          "name": "stderr",
          "text": [
            "\n"
          ]
        },
        {
          "output_type": "stream",
          "name": "stdout",
          "text": [
            "\n",
            "      Epoch    GPU_mem   box_loss   cls_loss   dfl_loss  Instances       Size\n"
          ]
        },
        {
          "output_type": "stream",
          "name": "stderr",
          "text": [
            "     32/100      9.06G      0.633     0.6429      0.961         53        640: 100%|██████████| 81/81 [00:52<00:00,  1.54it/s]\n",
            "                 Class     Images  Instances      Box(P          R      mAP50  mAP50-95): 100%|██████████| 11/11 [00:05<00:00,  2.15it/s]"
          ]
        },
        {
          "output_type": "stream",
          "name": "stdout",
          "text": [
            "                   all        161       1996      0.806      0.746      0.838      0.698\n"
          ]
        },
        {
          "output_type": "stream",
          "name": "stderr",
          "text": [
            "\n"
          ]
        },
        {
          "output_type": "stream",
          "name": "stdout",
          "text": [
            "\n",
            "      Epoch    GPU_mem   box_loss   cls_loss   dfl_loss  Instances       Size\n"
          ]
        },
        {
          "output_type": "stream",
          "name": "stderr",
          "text": [
            "     33/100       9.1G     0.6233     0.6321      0.956        108        640: 100%|██████████| 81/81 [00:51<00:00,  1.57it/s]\n",
            "                 Class     Images  Instances      Box(P          R      mAP50  mAP50-95): 100%|██████████| 11/11 [00:05<00:00,  2.19it/s]"
          ]
        },
        {
          "output_type": "stream",
          "name": "stdout",
          "text": [
            "                   all        161       1996      0.767      0.719      0.811      0.682\n"
          ]
        },
        {
          "output_type": "stream",
          "name": "stderr",
          "text": [
            "\n"
          ]
        },
        {
          "output_type": "stream",
          "name": "stdout",
          "text": [
            "\n",
            "      Epoch    GPU_mem   box_loss   cls_loss   dfl_loss  Instances       Size\n"
          ]
        },
        {
          "output_type": "stream",
          "name": "stderr",
          "text": [
            "     34/100      9.08G     0.6084     0.6131     0.9556         65        640: 100%|██████████| 81/81 [00:51<00:00,  1.59it/s]\n",
            "                 Class     Images  Instances      Box(P          R      mAP50  mAP50-95): 100%|██████████| 11/11 [00:04<00:00,  2.22it/s]"
          ]
        },
        {
          "output_type": "stream",
          "name": "stdout",
          "text": [
            "                   all        161       1996      0.807      0.767      0.845      0.715\n"
          ]
        },
        {
          "output_type": "stream",
          "name": "stderr",
          "text": [
            "\n"
          ]
        },
        {
          "output_type": "stream",
          "name": "stdout",
          "text": [
            "\n",
            "      Epoch    GPU_mem   box_loss   cls_loss   dfl_loss  Instances       Size\n"
          ]
        },
        {
          "output_type": "stream",
          "name": "stderr",
          "text": [
            "     35/100      9.11G     0.6088     0.5972     0.9528         36        640: 100%|██████████| 81/81 [00:50<00:00,  1.59it/s]\n",
            "                 Class     Images  Instances      Box(P          R      mAP50  mAP50-95): 100%|██████████| 11/11 [00:05<00:00,  2.10it/s]"
          ]
        },
        {
          "output_type": "stream",
          "name": "stdout",
          "text": [
            "                   all        161       1996      0.756      0.796      0.837      0.707\n"
          ]
        },
        {
          "output_type": "stream",
          "name": "stderr",
          "text": [
            "\n"
          ]
        },
        {
          "output_type": "stream",
          "name": "stdout",
          "text": [
            "\n",
            "      Epoch    GPU_mem   box_loss   cls_loss   dfl_loss  Instances       Size\n"
          ]
        },
        {
          "output_type": "stream",
          "name": "stderr",
          "text": [
            "     36/100      9.07G     0.6042     0.6088     0.9545         75        640: 100%|██████████| 81/81 [00:50<00:00,  1.60it/s]\n",
            "                 Class     Images  Instances      Box(P          R      mAP50  mAP50-95): 100%|██████████| 11/11 [00:04<00:00,  2.24it/s]"
          ]
        },
        {
          "output_type": "stream",
          "name": "stdout",
          "text": [
            "                   all        161       1996      0.781      0.781      0.832      0.713\n"
          ]
        },
        {
          "output_type": "stream",
          "name": "stderr",
          "text": [
            "\n"
          ]
        },
        {
          "output_type": "stream",
          "name": "stdout",
          "text": [
            "\n",
            "      Epoch    GPU_mem   box_loss   cls_loss   dfl_loss  Instances       Size\n"
          ]
        },
        {
          "output_type": "stream",
          "name": "stderr",
          "text": [
            "     37/100      9.07G     0.6026     0.6195     0.9543         58        640: 100%|██████████| 81/81 [00:51<00:00,  1.59it/s]\n",
            "                 Class     Images  Instances      Box(P          R      mAP50  mAP50-95): 100%|██████████| 11/11 [00:04<00:00,  2.24it/s]"
          ]
        },
        {
          "output_type": "stream",
          "name": "stdout",
          "text": [
            "                   all        161       1996       0.73      0.764      0.807       0.69\n"
          ]
        },
        {
          "output_type": "stream",
          "name": "stderr",
          "text": [
            "\n"
          ]
        },
        {
          "output_type": "stream",
          "name": "stdout",
          "text": [
            "\n",
            "      Epoch    GPU_mem   box_loss   cls_loss   dfl_loss  Instances       Size\n"
          ]
        },
        {
          "output_type": "stream",
          "name": "stderr",
          "text": [
            "     38/100      8.94G     0.6079     0.6175      0.942         67        640: 100%|██████████| 81/81 [00:50<00:00,  1.60it/s]\n",
            "                 Class     Images  Instances      Box(P          R      mAP50  mAP50-95): 100%|██████████| 11/11 [00:05<00:00,  2.17it/s]"
          ]
        },
        {
          "output_type": "stream",
          "name": "stdout",
          "text": [
            "                   all        161       1996      0.796      0.751      0.834      0.698\n"
          ]
        },
        {
          "output_type": "stream",
          "name": "stderr",
          "text": [
            "\n"
          ]
        },
        {
          "output_type": "stream",
          "name": "stdout",
          "text": [
            "\n",
            "      Epoch    GPU_mem   box_loss   cls_loss   dfl_loss  Instances       Size\n"
          ]
        },
        {
          "output_type": "stream",
          "name": "stderr",
          "text": [
            "     39/100      9.13G     0.6098     0.5995      0.947         35        640: 100%|██████████| 81/81 [00:50<00:00,  1.59it/s]\n",
            "                 Class     Images  Instances      Box(P          R      mAP50  mAP50-95): 100%|██████████| 11/11 [00:05<00:00,  2.14it/s]"
          ]
        },
        {
          "output_type": "stream",
          "name": "stdout",
          "text": [
            "                   all        161       1996      0.791      0.784      0.843      0.709\n"
          ]
        },
        {
          "output_type": "stream",
          "name": "stderr",
          "text": [
            "\n"
          ]
        },
        {
          "output_type": "stream",
          "name": "stdout",
          "text": [
            "\n",
            "      Epoch    GPU_mem   box_loss   cls_loss   dfl_loss  Instances       Size\n"
          ]
        },
        {
          "output_type": "stream",
          "name": "stderr",
          "text": [
            "     40/100      9.08G     0.5829     0.5742      0.935         29        640: 100%|██████████| 81/81 [00:51<00:00,  1.58it/s]\n",
            "                 Class     Images  Instances      Box(P          R      mAP50  mAP50-95): 100%|██████████| 11/11 [00:04<00:00,  2.22it/s]"
          ]
        },
        {
          "output_type": "stream",
          "name": "stdout",
          "text": [
            "                   all        161       1996      0.793      0.792      0.851      0.722\n"
          ]
        },
        {
          "output_type": "stream",
          "name": "stderr",
          "text": [
            "\n"
          ]
        },
        {
          "output_type": "stream",
          "name": "stdout",
          "text": [
            "\n",
            "      Epoch    GPU_mem   box_loss   cls_loss   dfl_loss  Instances       Size\n"
          ]
        },
        {
          "output_type": "stream",
          "name": "stderr",
          "text": [
            "     41/100      9.12G     0.5912     0.5648     0.9396         83        640: 100%|██████████| 81/81 [00:50<00:00,  1.61it/s]\n",
            "                 Class     Images  Instances      Box(P          R      mAP50  mAP50-95): 100%|██████████| 11/11 [00:05<00:00,  2.19it/s]\n"
          ]
        },
        {
          "output_type": "stream",
          "name": "stdout",
          "text": [
            "                   all        161       1996      0.792      0.808      0.865      0.734\n",
            "\n",
            "      Epoch    GPU_mem   box_loss   cls_loss   dfl_loss  Instances       Size\n"
          ]
        },
        {
          "output_type": "stream",
          "name": "stderr",
          "text": [
            "     42/100      9.07G     0.5851     0.5775     0.9362         60        640: 100%|██████████| 81/81 [00:49<00:00,  1.62it/s]\n",
            "                 Class     Images  Instances      Box(P          R      mAP50  mAP50-95): 100%|██████████| 11/11 [00:04<00:00,  2.25it/s]"
          ]
        },
        {
          "output_type": "stream",
          "name": "stdout",
          "text": [
            "                   all        161       1996      0.779      0.768      0.839      0.708\n"
          ]
        },
        {
          "output_type": "stream",
          "name": "stderr",
          "text": [
            "\n"
          ]
        },
        {
          "output_type": "stream",
          "name": "stdout",
          "text": [
            "\n",
            "      Epoch    GPU_mem   box_loss   cls_loss   dfl_loss  Instances       Size\n"
          ]
        },
        {
          "output_type": "stream",
          "name": "stderr",
          "text": [
            "     43/100      9.11G     0.5873     0.5572     0.9395         43        640: 100%|██████████| 81/81 [00:50<00:00,  1.61it/s]\n",
            "                 Class     Images  Instances      Box(P          R      mAP50  mAP50-95): 100%|██████████| 11/11 [00:04<00:00,  2.25it/s]"
          ]
        },
        {
          "output_type": "stream",
          "name": "stdout",
          "text": [
            "                   all        161       1996      0.776      0.761      0.842      0.714\n"
          ]
        },
        {
          "output_type": "stream",
          "name": "stderr",
          "text": [
            "\n"
          ]
        },
        {
          "output_type": "stream",
          "name": "stdout",
          "text": [
            "\n",
            "      Epoch    GPU_mem   box_loss   cls_loss   dfl_loss  Instances       Size\n"
          ]
        },
        {
          "output_type": "stream",
          "name": "stderr",
          "text": [
            "     44/100      9.08G     0.5729     0.5538     0.9311         59        640: 100%|██████████| 81/81 [00:50<00:00,  1.59it/s]\n",
            "                 Class     Images  Instances      Box(P          R      mAP50  mAP50-95): 100%|██████████| 11/11 [00:04<00:00,  2.23it/s]"
          ]
        },
        {
          "output_type": "stream",
          "name": "stdout",
          "text": [
            "                   all        161       1996       0.79      0.766       0.85      0.721\n"
          ]
        },
        {
          "output_type": "stream",
          "name": "stderr",
          "text": [
            "\n"
          ]
        },
        {
          "output_type": "stream",
          "name": "stdout",
          "text": [
            "\n",
            "      Epoch    GPU_mem   box_loss   cls_loss   dfl_loss  Instances       Size\n"
          ]
        },
        {
          "output_type": "stream",
          "name": "stderr",
          "text": [
            "     45/100      9.07G     0.5876     0.5576     0.9313        102        640: 100%|██████████| 81/81 [00:50<00:00,  1.60it/s]\n",
            "                 Class     Images  Instances      Box(P          R      mAP50  mAP50-95): 100%|██████████| 11/11 [00:04<00:00,  2.26it/s]"
          ]
        },
        {
          "output_type": "stream",
          "name": "stdout",
          "text": [
            "                   all        161       1996      0.829      0.784      0.852      0.729\n"
          ]
        },
        {
          "output_type": "stream",
          "name": "stderr",
          "text": [
            "\n"
          ]
        },
        {
          "output_type": "stream",
          "name": "stdout",
          "text": [
            "\n",
            "      Epoch    GPU_mem   box_loss   cls_loss   dfl_loss  Instances       Size\n"
          ]
        },
        {
          "output_type": "stream",
          "name": "stderr",
          "text": [
            "     46/100      8.86G     0.5859     0.5393     0.9297         26        640: 100%|██████████| 81/81 [00:50<00:00,  1.60it/s]\n",
            "                 Class     Images  Instances      Box(P          R      mAP50  mAP50-95): 100%|██████████| 11/11 [00:04<00:00,  2.25it/s]"
          ]
        },
        {
          "output_type": "stream",
          "name": "stdout",
          "text": [
            "                   all        161       1996      0.807      0.769      0.851      0.719\n"
          ]
        },
        {
          "output_type": "stream",
          "name": "stderr",
          "text": [
            "\n"
          ]
        },
        {
          "output_type": "stream",
          "name": "stdout",
          "text": [
            "\n",
            "      Epoch    GPU_mem   box_loss   cls_loss   dfl_loss  Instances       Size\n"
          ]
        },
        {
          "output_type": "stream",
          "name": "stderr",
          "text": [
            "     47/100      9.13G     0.5635     0.5403     0.9299         23        640: 100%|██████████| 81/81 [00:50<00:00,  1.60it/s]\n",
            "                 Class     Images  Instances      Box(P          R      mAP50  mAP50-95): 100%|██████████| 11/11 [00:04<00:00,  2.24it/s]"
          ]
        },
        {
          "output_type": "stream",
          "name": "stdout",
          "text": [
            "                   all        161       1996      0.795      0.778      0.851      0.728\n"
          ]
        },
        {
          "output_type": "stream",
          "name": "stderr",
          "text": [
            "\n"
          ]
        },
        {
          "output_type": "stream",
          "name": "stdout",
          "text": [
            "\n",
            "      Epoch    GPU_mem   box_loss   cls_loss   dfl_loss  Instances       Size\n"
          ]
        },
        {
          "output_type": "stream",
          "name": "stderr",
          "text": [
            "     48/100      9.12G     0.5641     0.5183     0.9288         43        640: 100%|██████████| 81/81 [00:50<00:00,  1.60it/s]\n",
            "                 Class     Images  Instances      Box(P          R      mAP50  mAP50-95): 100%|██████████| 11/11 [00:04<00:00,  2.24it/s]"
          ]
        },
        {
          "output_type": "stream",
          "name": "stdout",
          "text": [
            "                   all        161       1996      0.794      0.805      0.866      0.737\n"
          ]
        },
        {
          "output_type": "stream",
          "name": "stderr",
          "text": [
            "\n"
          ]
        },
        {
          "output_type": "stream",
          "name": "stdout",
          "text": [
            "\n",
            "      Epoch    GPU_mem   box_loss   cls_loss   dfl_loss  Instances       Size\n"
          ]
        },
        {
          "output_type": "stream",
          "name": "stderr",
          "text": [
            "     49/100      9.07G     0.5676     0.5323     0.9285         37        640: 100%|██████████| 81/81 [00:50<00:00,  1.62it/s]\n",
            "                 Class     Images  Instances      Box(P          R      mAP50  mAP50-95): 100%|██████████| 11/11 [00:04<00:00,  2.24it/s]"
          ]
        },
        {
          "output_type": "stream",
          "name": "stdout",
          "text": [
            "                   all        161       1996      0.813      0.784      0.859      0.727\n"
          ]
        },
        {
          "output_type": "stream",
          "name": "stderr",
          "text": [
            "\n"
          ]
        },
        {
          "output_type": "stream",
          "name": "stdout",
          "text": [
            "\n",
            "      Epoch    GPU_mem   box_loss   cls_loss   dfl_loss  Instances       Size\n"
          ]
        },
        {
          "output_type": "stream",
          "name": "stderr",
          "text": [
            "     50/100      9.13G     0.5595     0.5227     0.9263        111        640: 100%|██████████| 81/81 [00:50<00:00,  1.61it/s]\n",
            "                 Class     Images  Instances      Box(P          R      mAP50  mAP50-95): 100%|██████████| 11/11 [00:05<00:00,  2.12it/s]"
          ]
        },
        {
          "output_type": "stream",
          "name": "stdout",
          "text": [
            "                   all        161       1996      0.787      0.811      0.872      0.748\n"
          ]
        },
        {
          "output_type": "stream",
          "name": "stderr",
          "text": [
            "\n"
          ]
        },
        {
          "output_type": "stream",
          "name": "stdout",
          "text": [
            "\n",
            "      Epoch    GPU_mem   box_loss   cls_loss   dfl_loss  Instances       Size\n"
          ]
        },
        {
          "output_type": "stream",
          "name": "stderr",
          "text": [
            "     51/100      9.09G     0.5608     0.5346     0.9296         58        640: 100%|██████████| 81/81 [00:50<00:00,  1.60it/s]\n",
            "                 Class     Images  Instances      Box(P          R      mAP50  mAP50-95): 100%|██████████| 11/11 [00:04<00:00,  2.24it/s]"
          ]
        },
        {
          "output_type": "stream",
          "name": "stdout",
          "text": [
            "                   all        161       1996       0.81      0.785      0.871      0.747\n"
          ]
        },
        {
          "output_type": "stream",
          "name": "stderr",
          "text": [
            "\n"
          ]
        },
        {
          "output_type": "stream",
          "name": "stdout",
          "text": [
            "\n",
            "      Epoch    GPU_mem   box_loss   cls_loss   dfl_loss  Instances       Size\n"
          ]
        },
        {
          "output_type": "stream",
          "name": "stderr",
          "text": [
            "     52/100      9.09G      0.559     0.5116     0.9182         48        640: 100%|██████████| 81/81 [00:50<00:00,  1.61it/s]\n",
            "                 Class     Images  Instances      Box(P          R      mAP50  mAP50-95): 100%|██████████| 11/11 [00:04<00:00,  2.24it/s]"
          ]
        },
        {
          "output_type": "stream",
          "name": "stdout",
          "text": [
            "                   all        161       1996      0.801      0.796      0.869      0.741\n"
          ]
        },
        {
          "output_type": "stream",
          "name": "stderr",
          "text": [
            "\n"
          ]
        },
        {
          "output_type": "stream",
          "name": "stdout",
          "text": [
            "\n",
            "      Epoch    GPU_mem   box_loss   cls_loss   dfl_loss  Instances       Size\n"
          ]
        },
        {
          "output_type": "stream",
          "name": "stderr",
          "text": [
            "     53/100      9.14G     0.5493     0.4976     0.9145         30        640: 100%|██████████| 81/81 [00:51<00:00,  1.58it/s]\n",
            "                 Class     Images  Instances      Box(P          R      mAP50  mAP50-95): 100%|██████████| 11/11 [00:04<00:00,  2.25it/s]"
          ]
        },
        {
          "output_type": "stream",
          "name": "stdout",
          "text": [
            "                   all        161       1996      0.796      0.799      0.869      0.737\n"
          ]
        },
        {
          "output_type": "stream",
          "name": "stderr",
          "text": [
            "\n"
          ]
        },
        {
          "output_type": "stream",
          "name": "stdout",
          "text": [
            "\n",
            "      Epoch    GPU_mem   box_loss   cls_loss   dfl_loss  Instances       Size\n"
          ]
        },
        {
          "output_type": "stream",
          "name": "stderr",
          "text": [
            "     54/100      8.87G     0.5388     0.4881     0.9117         59        640: 100%|██████████| 81/81 [00:50<00:00,  1.60it/s]\n",
            "                 Class     Images  Instances      Box(P          R      mAP50  mAP50-95): 100%|██████████| 11/11 [00:04<00:00,  2.26it/s]"
          ]
        },
        {
          "output_type": "stream",
          "name": "stdout",
          "text": [
            "                   all        161       1996      0.781      0.787      0.854      0.727\n"
          ]
        },
        {
          "output_type": "stream",
          "name": "stderr",
          "text": [
            "\n"
          ]
        },
        {
          "output_type": "stream",
          "name": "stdout",
          "text": [
            "\n",
            "      Epoch    GPU_mem   box_loss   cls_loss   dfl_loss  Instances       Size\n"
          ]
        },
        {
          "output_type": "stream",
          "name": "stderr",
          "text": [
            "     55/100      9.14G     0.5491     0.4971     0.9213         42        640: 100%|██████████| 81/81 [00:50<00:00,  1.60it/s]\n",
            "                 Class     Images  Instances      Box(P          R      mAP50  mAP50-95): 100%|██████████| 11/11 [00:04<00:00,  2.25it/s]"
          ]
        },
        {
          "output_type": "stream",
          "name": "stdout",
          "text": [
            "                   all        161       1996      0.797      0.799      0.856      0.735\n"
          ]
        },
        {
          "output_type": "stream",
          "name": "stderr",
          "text": [
            "\n"
          ]
        },
        {
          "output_type": "stream",
          "name": "stdout",
          "text": [
            "\n",
            "      Epoch    GPU_mem   box_loss   cls_loss   dfl_loss  Instances       Size\n"
          ]
        },
        {
          "output_type": "stream",
          "name": "stderr",
          "text": [
            "     56/100      9.12G     0.5434     0.5114     0.9116         15        640: 100%|██████████| 81/81 [00:50<00:00,  1.60it/s]\n",
            "                 Class     Images  Instances      Box(P          R      mAP50  mAP50-95): 100%|██████████| 11/11 [00:04<00:00,  2.23it/s]"
          ]
        },
        {
          "output_type": "stream",
          "name": "stdout",
          "text": [
            "                   all        161       1996       0.82      0.781      0.871      0.747\n"
          ]
        },
        {
          "output_type": "stream",
          "name": "stderr",
          "text": [
            "\n"
          ]
        },
        {
          "output_type": "stream",
          "name": "stdout",
          "text": [
            "\n",
            "      Epoch    GPU_mem   box_loss   cls_loss   dfl_loss  Instances       Size\n"
          ]
        },
        {
          "output_type": "stream",
          "name": "stderr",
          "text": [
            "     57/100      9.04G     0.5514     0.5041     0.9153         64        640: 100%|██████████| 81/81 [00:51<00:00,  1.59it/s]\n",
            "                 Class     Images  Instances      Box(P          R      mAP50  mAP50-95): 100%|██████████| 11/11 [00:05<00:00,  2.16it/s]"
          ]
        },
        {
          "output_type": "stream",
          "name": "stdout",
          "text": [
            "                   all        161       1996      0.806      0.784      0.862      0.739\n"
          ]
        },
        {
          "output_type": "stream",
          "name": "stderr",
          "text": [
            "\n"
          ]
        },
        {
          "output_type": "stream",
          "name": "stdout",
          "text": [
            "\n",
            "      Epoch    GPU_mem   box_loss   cls_loss   dfl_loss  Instances       Size\n"
          ]
        },
        {
          "output_type": "stream",
          "name": "stderr",
          "text": [
            "     58/100      9.06G     0.5421     0.5018     0.9147         56        640: 100%|██████████| 81/81 [00:50<00:00,  1.60it/s]\n",
            "                 Class     Images  Instances      Box(P          R      mAP50  mAP50-95): 100%|██████████| 11/11 [00:04<00:00,  2.24it/s]"
          ]
        },
        {
          "output_type": "stream",
          "name": "stdout",
          "text": [
            "                   all        161       1996      0.796      0.806      0.861      0.742\n"
          ]
        },
        {
          "output_type": "stream",
          "name": "stderr",
          "text": [
            "\n"
          ]
        },
        {
          "output_type": "stream",
          "name": "stdout",
          "text": [
            "\n",
            "      Epoch    GPU_mem   box_loss   cls_loss   dfl_loss  Instances       Size\n"
          ]
        },
        {
          "output_type": "stream",
          "name": "stderr",
          "text": [
            "     59/100       9.1G     0.5484     0.5122     0.9167        124        640: 100%|██████████| 81/81 [00:50<00:00,  1.60it/s]\n",
            "                 Class     Images  Instances      Box(P          R      mAP50  mAP50-95): 100%|██████████| 11/11 [00:04<00:00,  2.26it/s]"
          ]
        },
        {
          "output_type": "stream",
          "name": "stdout",
          "text": [
            "                   all        161       1996      0.802      0.768      0.855      0.734\n"
          ]
        },
        {
          "output_type": "stream",
          "name": "stderr",
          "text": [
            "\n"
          ]
        },
        {
          "output_type": "stream",
          "name": "stdout",
          "text": [
            "\n",
            "      Epoch    GPU_mem   box_loss   cls_loss   dfl_loss  Instances       Size\n"
          ]
        },
        {
          "output_type": "stream",
          "name": "stderr",
          "text": [
            "     60/100       9.1G     0.5381     0.4759     0.9104         50        640: 100%|██████████| 81/81 [00:50<00:00,  1.59it/s]\n",
            "                 Class     Images  Instances      Box(P          R      mAP50  mAP50-95): 100%|██████████| 11/11 [00:05<00:00,  2.10it/s]"
          ]
        },
        {
          "output_type": "stream",
          "name": "stdout",
          "text": [
            "                   all        161       1996      0.814      0.793      0.862      0.747\n"
          ]
        },
        {
          "output_type": "stream",
          "name": "stderr",
          "text": [
            "\n"
          ]
        },
        {
          "output_type": "stream",
          "name": "stdout",
          "text": [
            "\n",
            "      Epoch    GPU_mem   box_loss   cls_loss   dfl_loss  Instances       Size\n"
          ]
        },
        {
          "output_type": "stream",
          "name": "stderr",
          "text": [
            "     61/100      9.06G     0.5315     0.4765     0.9171         85        640: 100%|██████████| 81/81 [00:50<00:00,  1.59it/s]\n",
            "                 Class     Images  Instances      Box(P          R      mAP50  mAP50-95): 100%|██████████| 11/11 [00:05<00:00,  2.11it/s]"
          ]
        },
        {
          "output_type": "stream",
          "name": "stdout",
          "text": [
            "                   all        161       1996       0.79      0.795      0.855      0.737\n"
          ]
        },
        {
          "output_type": "stream",
          "name": "stderr",
          "text": [
            "\n"
          ]
        },
        {
          "output_type": "stream",
          "name": "stdout",
          "text": [
            "\n",
            "      Epoch    GPU_mem   box_loss   cls_loss   dfl_loss  Instances       Size\n"
          ]
        },
        {
          "output_type": "stream",
          "name": "stderr",
          "text": [
            "     62/100      8.94G     0.5331      0.466     0.9106         59        640: 100%|██████████| 81/81 [00:51<00:00,  1.58it/s]\n",
            "                 Class     Images  Instances      Box(P          R      mAP50  mAP50-95): 100%|██████████| 11/11 [00:04<00:00,  2.24it/s]"
          ]
        },
        {
          "output_type": "stream",
          "name": "stdout",
          "text": [
            "                   all        161       1996      0.814      0.787      0.866      0.747\n"
          ]
        },
        {
          "output_type": "stream",
          "name": "stderr",
          "text": [
            "\n"
          ]
        },
        {
          "output_type": "stream",
          "name": "stdout",
          "text": [
            "\n",
            "      Epoch    GPU_mem   box_loss   cls_loss   dfl_loss  Instances       Size\n"
          ]
        },
        {
          "output_type": "stream",
          "name": "stderr",
          "text": [
            "     63/100      9.12G     0.5142     0.4422     0.9031         39        640: 100%|██████████| 81/81 [00:50<00:00,  1.59it/s]\n",
            "                 Class     Images  Instances      Box(P          R      mAP50  mAP50-95): 100%|██████████| 11/11 [00:05<00:00,  2.10it/s]\n"
          ]
        },
        {
          "output_type": "stream",
          "name": "stdout",
          "text": [
            "                   all        161       1996      0.838      0.743      0.858      0.741\n",
            "\n",
            "      Epoch    GPU_mem   box_loss   cls_loss   dfl_loss  Instances       Size\n"
          ]
        },
        {
          "output_type": "stream",
          "name": "stderr",
          "text": [
            "     64/100       9.1G     0.5287     0.4482      0.911         63        640: 100%|██████████| 81/81 [00:50<00:00,  1.60it/s]\n",
            "                 Class     Images  Instances      Box(P          R      mAP50  mAP50-95): 100%|██████████| 11/11 [00:05<00:00,  2.20it/s]"
          ]
        },
        {
          "output_type": "stream",
          "name": "stdout",
          "text": [
            "                   all        161       1996      0.785      0.804      0.869      0.746\n"
          ]
        },
        {
          "output_type": "stream",
          "name": "stderr",
          "text": [
            "\n"
          ]
        },
        {
          "output_type": "stream",
          "name": "stdout",
          "text": [
            "\n",
            "      Epoch    GPU_mem   box_loss   cls_loss   dfl_loss  Instances       Size\n"
          ]
        },
        {
          "output_type": "stream",
          "name": "stderr",
          "text": [
            "     65/100      9.06G     0.5258     0.4515     0.9035         60        640: 100%|██████████| 81/81 [00:50<00:00,  1.60it/s]\n",
            "                 Class     Images  Instances      Box(P          R      mAP50  mAP50-95): 100%|██████████| 11/11 [00:04<00:00,  2.22it/s]"
          ]
        },
        {
          "output_type": "stream",
          "name": "stdout",
          "text": [
            "                   all        161       1996      0.794        0.8      0.867      0.746\n"
          ]
        },
        {
          "output_type": "stream",
          "name": "stderr",
          "text": [
            "\n"
          ]
        },
        {
          "output_type": "stream",
          "name": "stdout",
          "text": [
            "\n",
            "      Epoch    GPU_mem   box_loss   cls_loss   dfl_loss  Instances       Size\n"
          ]
        },
        {
          "output_type": "stream",
          "name": "stderr",
          "text": [
            "     66/100      9.14G     0.5149     0.4469     0.9068         58        640: 100%|██████████| 81/81 [00:50<00:00,  1.59it/s]\n",
            "                 Class     Images  Instances      Box(P          R      mAP50  mAP50-95): 100%|██████████| 11/11 [00:04<00:00,  2.26it/s]"
          ]
        },
        {
          "output_type": "stream",
          "name": "stdout",
          "text": [
            "                   all        161       1996      0.833      0.775      0.875      0.757\n"
          ]
        },
        {
          "output_type": "stream",
          "name": "stderr",
          "text": [
            "\n"
          ]
        },
        {
          "output_type": "stream",
          "name": "stdout",
          "text": [
            "\n",
            "      Epoch    GPU_mem   box_loss   cls_loss   dfl_loss  Instances       Size\n"
          ]
        },
        {
          "output_type": "stream",
          "name": "stderr",
          "text": [
            "     67/100      9.13G     0.5075     0.4464     0.9006         50        640: 100%|██████████| 81/81 [00:50<00:00,  1.61it/s]\n",
            "                 Class     Images  Instances      Box(P          R      mAP50  mAP50-95): 100%|██████████| 11/11 [00:04<00:00,  2.25it/s]"
          ]
        },
        {
          "output_type": "stream",
          "name": "stdout",
          "text": [
            "                   all        161       1996      0.808      0.788      0.869      0.752\n"
          ]
        },
        {
          "output_type": "stream",
          "name": "stderr",
          "text": [
            "\n"
          ]
        },
        {
          "output_type": "stream",
          "name": "stdout",
          "text": [
            "\n",
            "      Epoch    GPU_mem   box_loss   cls_loss   dfl_loss  Instances       Size\n"
          ]
        },
        {
          "output_type": "stream",
          "name": "stderr",
          "text": [
            "     68/100       9.1G     0.5045     0.4454     0.9043         48        640: 100%|██████████| 81/81 [00:50<00:00,  1.61it/s]\n",
            "                 Class     Images  Instances      Box(P          R      mAP50  mAP50-95): 100%|██████████| 11/11 [00:04<00:00,  2.22it/s]"
          ]
        },
        {
          "output_type": "stream",
          "name": "stdout",
          "text": [
            "                   all        161       1996       0.81      0.801      0.879      0.761\n"
          ]
        },
        {
          "output_type": "stream",
          "name": "stderr",
          "text": [
            "\n"
          ]
        },
        {
          "output_type": "stream",
          "name": "stdout",
          "text": [
            "\n",
            "      Epoch    GPU_mem   box_loss   cls_loss   dfl_loss  Instances       Size\n"
          ]
        },
        {
          "output_type": "stream",
          "name": "stderr",
          "text": [
            "     69/100      9.06G     0.5104      0.439     0.9063         32        640: 100%|██████████| 81/81 [00:50<00:00,  1.62it/s]\n",
            "                 Class     Images  Instances      Box(P          R      mAP50  mAP50-95): 100%|██████████| 11/11 [00:05<00:00,  2.13it/s]\n"
          ]
        },
        {
          "output_type": "stream",
          "name": "stdout",
          "text": [
            "                   all        161       1996      0.818      0.764      0.858      0.739\n",
            "\n",
            "      Epoch    GPU_mem   box_loss   cls_loss   dfl_loss  Instances       Size\n"
          ]
        },
        {
          "output_type": "stream",
          "name": "stderr",
          "text": [
            "     70/100      8.93G     0.5027     0.4313     0.8983         60        640: 100%|██████████| 81/81 [00:50<00:00,  1.61it/s]\n",
            "                 Class     Images  Instances      Box(P          R      mAP50  mAP50-95): 100%|██████████| 11/11 [00:04<00:00,  2.26it/s]"
          ]
        },
        {
          "output_type": "stream",
          "name": "stdout",
          "text": [
            "                   all        161       1996      0.797        0.8      0.862      0.749\n"
          ]
        },
        {
          "output_type": "stream",
          "name": "stderr",
          "text": [
            "\n"
          ]
        },
        {
          "output_type": "stream",
          "name": "stdout",
          "text": [
            "\n",
            "      Epoch    GPU_mem   box_loss   cls_loss   dfl_loss  Instances       Size\n"
          ]
        },
        {
          "output_type": "stream",
          "name": "stderr",
          "text": [
            "     71/100      9.08G     0.5084     0.4378      0.904         30        640: 100%|██████████| 81/81 [00:50<00:00,  1.59it/s]\n",
            "                 Class     Images  Instances      Box(P          R      mAP50  mAP50-95): 100%|██████████| 11/11 [00:04<00:00,  2.25it/s]"
          ]
        },
        {
          "output_type": "stream",
          "name": "stdout",
          "text": [
            "                   all        161       1996      0.799      0.796      0.866      0.749\n"
          ]
        },
        {
          "output_type": "stream",
          "name": "stderr",
          "text": [
            "\n"
          ]
        },
        {
          "output_type": "stream",
          "name": "stdout",
          "text": [
            "\n",
            "      Epoch    GPU_mem   box_loss   cls_loss   dfl_loss  Instances       Size\n"
          ]
        },
        {
          "output_type": "stream",
          "name": "stderr",
          "text": [
            "     72/100       9.1G     0.5073     0.4441     0.9006         14        640: 100%|██████████| 81/81 [00:50<00:00,  1.60it/s]\n",
            "                 Class     Images  Instances      Box(P          R      mAP50  mAP50-95): 100%|██████████| 11/11 [00:04<00:00,  2.26it/s]"
          ]
        },
        {
          "output_type": "stream",
          "name": "stdout",
          "text": [
            "                   all        161       1996      0.812      0.786      0.869      0.751\n"
          ]
        },
        {
          "output_type": "stream",
          "name": "stderr",
          "text": [
            "\n"
          ]
        },
        {
          "output_type": "stream",
          "name": "stdout",
          "text": [
            "\n",
            "      Epoch    GPU_mem   box_loss   cls_loss   dfl_loss  Instances       Size\n"
          ]
        },
        {
          "output_type": "stream",
          "name": "stderr",
          "text": [
            "     73/100      9.11G     0.4904     0.4154     0.8952         69        640: 100%|██████████| 81/81 [00:50<00:00,  1.59it/s]\n",
            "                 Class     Images  Instances      Box(P          R      mAP50  mAP50-95): 100%|██████████| 11/11 [00:05<00:00,  2.07it/s]\n"
          ]
        },
        {
          "output_type": "stream",
          "name": "stdout",
          "text": [
            "                   all        161       1996      0.838      0.798      0.883       0.77\n",
            "\n",
            "      Epoch    GPU_mem   box_loss   cls_loss   dfl_loss  Instances       Size\n"
          ]
        },
        {
          "output_type": "stream",
          "name": "stderr",
          "text": [
            "     74/100      9.09G     0.4927     0.4194     0.8941         49        640: 100%|██████████| 81/81 [00:50<00:00,  1.61it/s]\n",
            "                 Class     Images  Instances      Box(P          R      mAP50  mAP50-95): 100%|██████████| 11/11 [00:04<00:00,  2.28it/s]"
          ]
        },
        {
          "output_type": "stream",
          "name": "stdout",
          "text": [
            "                   all        161       1996      0.833       0.77      0.865      0.753\n"
          ]
        },
        {
          "output_type": "stream",
          "name": "stderr",
          "text": [
            "\n"
          ]
        },
        {
          "output_type": "stream",
          "name": "stdout",
          "text": [
            "\n",
            "      Epoch    GPU_mem   box_loss   cls_loss   dfl_loss  Instances       Size\n"
          ]
        },
        {
          "output_type": "stream",
          "name": "stderr",
          "text": [
            "     75/100       9.1G     0.4973     0.4187     0.8923         46        640: 100%|██████████| 81/81 [00:51<00:00,  1.58it/s]\n",
            "                 Class     Images  Instances      Box(P          R      mAP50  mAP50-95): 100%|██████████| 11/11 [00:05<00:00,  2.19it/s]"
          ]
        },
        {
          "output_type": "stream",
          "name": "stdout",
          "text": [
            "                   all        161       1996      0.814      0.787       0.87      0.755\n"
          ]
        },
        {
          "output_type": "stream",
          "name": "stderr",
          "text": [
            "\n"
          ]
        },
        {
          "output_type": "stream",
          "name": "stdout",
          "text": [
            "\n",
            "      Epoch    GPU_mem   box_loss   cls_loss   dfl_loss  Instances       Size\n"
          ]
        },
        {
          "output_type": "stream",
          "name": "stderr",
          "text": [
            "     76/100      9.09G     0.5004     0.4081     0.8875         41        640: 100%|██████████| 81/81 [00:50<00:00,  1.60it/s]\n",
            "                 Class     Images  Instances      Box(P          R      mAP50  mAP50-95): 100%|██████████| 11/11 [00:05<00:00,  2.15it/s]"
          ]
        },
        {
          "output_type": "stream",
          "name": "stdout",
          "text": [
            "                   all        161       1996      0.799      0.813      0.873      0.752\n"
          ]
        },
        {
          "output_type": "stream",
          "name": "stderr",
          "text": [
            "\n"
          ]
        },
        {
          "output_type": "stream",
          "name": "stdout",
          "text": [
            "\n",
            "      Epoch    GPU_mem   box_loss   cls_loss   dfl_loss  Instances       Size\n"
          ]
        },
        {
          "output_type": "stream",
          "name": "stderr",
          "text": [
            "     77/100      9.09G     0.4888     0.4019     0.8831         59        640: 100%|██████████| 81/81 [00:50<00:00,  1.60it/s]\n",
            "                 Class     Images  Instances      Box(P          R      mAP50  mAP50-95): 100%|██████████| 11/11 [00:04<00:00,  2.24it/s]"
          ]
        },
        {
          "output_type": "stream",
          "name": "stdout",
          "text": [
            "                   all        161       1996      0.804      0.786      0.865      0.752\n"
          ]
        },
        {
          "output_type": "stream",
          "name": "stderr",
          "text": [
            "\n"
          ]
        },
        {
          "output_type": "stream",
          "name": "stdout",
          "text": [
            "\n",
            "      Epoch    GPU_mem   box_loss   cls_loss   dfl_loss  Instances       Size\n"
          ]
        },
        {
          "output_type": "stream",
          "name": "stderr",
          "text": [
            "     78/100      8.91G     0.4796     0.3986     0.8877         97        640: 100%|██████████| 81/81 [00:51<00:00,  1.59it/s]\n",
            "                 Class     Images  Instances      Box(P          R      mAP50  mAP50-95): 100%|██████████| 11/11 [00:05<00:00,  2.11it/s]"
          ]
        },
        {
          "output_type": "stream",
          "name": "stdout",
          "text": [
            "                   all        161       1996      0.797       0.79       0.86      0.748\n"
          ]
        },
        {
          "output_type": "stream",
          "name": "stderr",
          "text": [
            "\n"
          ]
        },
        {
          "output_type": "stream",
          "name": "stdout",
          "text": [
            "\n",
            "      Epoch    GPU_mem   box_loss   cls_loss   dfl_loss  Instances       Size\n"
          ]
        },
        {
          "output_type": "stream",
          "name": "stderr",
          "text": [
            "     79/100      9.14G     0.4822     0.4008     0.8937         28        640: 100%|██████████| 81/81 [00:50<00:00,  1.60it/s]\n",
            "                 Class     Images  Instances      Box(P          R      mAP50  mAP50-95): 100%|██████████| 11/11 [00:05<00:00,  2.18it/s]"
          ]
        },
        {
          "output_type": "stream",
          "name": "stdout",
          "text": [
            "                   all        161       1996      0.818      0.781      0.865      0.747\n"
          ]
        },
        {
          "output_type": "stream",
          "name": "stderr",
          "text": [
            "\n"
          ]
        },
        {
          "output_type": "stream",
          "name": "stdout",
          "text": [
            "\n",
            "      Epoch    GPU_mem   box_loss   cls_loss   dfl_loss  Instances       Size\n"
          ]
        },
        {
          "output_type": "stream",
          "name": "stderr",
          "text": [
            "     80/100      9.09G     0.4713     0.3777     0.8854         31        640: 100%|██████████| 81/81 [00:51<00:00,  1.59it/s]\n",
            "                 Class     Images  Instances      Box(P          R      mAP50  mAP50-95): 100%|██████████| 11/11 [00:05<00:00,  2.20it/s]\n"
          ]
        },
        {
          "output_type": "stream",
          "name": "stdout",
          "text": [
            "                   all        161       1996      0.818      0.781      0.866      0.749\n",
            "\n",
            "      Epoch    GPU_mem   box_loss   cls_loss   dfl_loss  Instances       Size\n"
          ]
        },
        {
          "output_type": "stream",
          "name": "stderr",
          "text": [
            "     81/100       9.1G     0.4756     0.3873     0.8877         47        640: 100%|██████████| 81/81 [00:50<00:00,  1.61it/s]\n",
            "                 Class     Images  Instances      Box(P          R      mAP50  mAP50-95): 100%|██████████| 11/11 [00:05<00:00,  2.18it/s]"
          ]
        },
        {
          "output_type": "stream",
          "name": "stdout",
          "text": [
            "                   all        161       1996      0.795      0.796      0.857      0.742\n"
          ]
        },
        {
          "output_type": "stream",
          "name": "stderr",
          "text": [
            "\n"
          ]
        },
        {
          "output_type": "stream",
          "name": "stdout",
          "text": [
            "\n",
            "      Epoch    GPU_mem   box_loss   cls_loss   dfl_loss  Instances       Size\n"
          ]
        },
        {
          "output_type": "stream",
          "name": "stderr",
          "text": [
            "     82/100      9.06G     0.4833     0.3985     0.8883         41        640: 100%|██████████| 81/81 [00:50<00:00,  1.61it/s]\n",
            "                 Class     Images  Instances      Box(P          R      mAP50  mAP50-95): 100%|██████████| 11/11 [00:05<00:00,  2.20it/s]"
          ]
        },
        {
          "output_type": "stream",
          "name": "stdout",
          "text": [
            "                   all        161       1996      0.811       0.78       0.86      0.744\n"
          ]
        },
        {
          "output_type": "stream",
          "name": "stderr",
          "text": [
            "\n"
          ]
        },
        {
          "output_type": "stream",
          "name": "stdout",
          "text": [
            "\n",
            "      Epoch    GPU_mem   box_loss   cls_loss   dfl_loss  Instances       Size\n"
          ]
        },
        {
          "output_type": "stream",
          "name": "stderr",
          "text": [
            "     83/100       9.1G     0.4627     0.3815     0.8808         35        640: 100%|██████████| 81/81 [00:50<00:00,  1.60it/s]\n",
            "                 Class     Images  Instances      Box(P          R      mAP50  mAP50-95): 100%|██████████| 11/11 [00:04<00:00,  2.25it/s]"
          ]
        },
        {
          "output_type": "stream",
          "name": "stdout",
          "text": [
            "                   all        161       1996      0.797      0.818      0.863      0.749\n"
          ]
        },
        {
          "output_type": "stream",
          "name": "stderr",
          "text": [
            "\n"
          ]
        },
        {
          "output_type": "stream",
          "name": "stdout",
          "text": [
            "\n",
            "      Epoch    GPU_mem   box_loss   cls_loss   dfl_loss  Instances       Size\n"
          ]
        },
        {
          "output_type": "stream",
          "name": "stderr",
          "text": [
            "     84/100      9.03G     0.4648     0.3784     0.8843         19        640: 100%|██████████| 81/81 [00:50<00:00,  1.59it/s]\n",
            "                 Class     Images  Instances      Box(P          R      mAP50  mAP50-95): 100%|██████████| 11/11 [00:05<00:00,  2.17it/s]"
          ]
        },
        {
          "output_type": "stream",
          "name": "stdout",
          "text": [
            "                   all        161       1996      0.792      0.804      0.858      0.744\n"
          ]
        },
        {
          "output_type": "stream",
          "name": "stderr",
          "text": [
            "\n"
          ]
        },
        {
          "output_type": "stream",
          "name": "stdout",
          "text": [
            "\n",
            "      Epoch    GPU_mem   box_loss   cls_loss   dfl_loss  Instances       Size\n"
          ]
        },
        {
          "output_type": "stream",
          "name": "stderr",
          "text": [
            "     85/100      9.08G     0.4595     0.3707     0.8775         48        640: 100%|██████████| 81/81 [00:50<00:00,  1.60it/s]\n",
            "                 Class     Images  Instances      Box(P          R      mAP50  mAP50-95): 100%|██████████| 11/11 [00:05<00:00,  2.16it/s]\n"
          ]
        },
        {
          "output_type": "stream",
          "name": "stdout",
          "text": [
            "                   all        161       1996      0.806      0.812      0.871      0.759\n",
            "\n",
            "      Epoch    GPU_mem   box_loss   cls_loss   dfl_loss  Instances       Size\n"
          ]
        },
        {
          "output_type": "stream",
          "name": "stderr",
          "text": [
            "     86/100      8.95G     0.4617     0.3668     0.8727         84        640: 100%|██████████| 81/81 [00:50<00:00,  1.61it/s]\n",
            "                 Class     Images  Instances      Box(P          R      mAP50  mAP50-95): 100%|██████████| 11/11 [00:05<00:00,  2.18it/s]\n"
          ]
        },
        {
          "output_type": "stream",
          "name": "stdout",
          "text": [
            "                   all        161       1996      0.798      0.808      0.868      0.754\n",
            "\n",
            "      Epoch    GPU_mem   box_loss   cls_loss   dfl_loss  Instances       Size\n"
          ]
        },
        {
          "output_type": "stream",
          "name": "stderr",
          "text": [
            "     87/100      9.12G     0.4575     0.3565     0.8757         71        640: 100%|██████████| 81/81 [00:50<00:00,  1.61it/s]\n",
            "                 Class     Images  Instances      Box(P          R      mAP50  mAP50-95): 100%|██████████| 11/11 [00:04<00:00,  2.21it/s]"
          ]
        },
        {
          "output_type": "stream",
          "name": "stdout",
          "text": [
            "                   all        161       1996       0.81      0.801      0.864      0.754\n"
          ]
        },
        {
          "output_type": "stream",
          "name": "stderr",
          "text": [
            "\n"
          ]
        },
        {
          "output_type": "stream",
          "name": "stdout",
          "text": [
            "\n",
            "      Epoch    GPU_mem   box_loss   cls_loss   dfl_loss  Instances       Size\n"
          ]
        },
        {
          "output_type": "stream",
          "name": "stderr",
          "text": [
            "     88/100      9.12G     0.4626     0.3582     0.8741         71        640: 100%|██████████| 81/81 [00:50<00:00,  1.59it/s]\n",
            "                 Class     Images  Instances      Box(P          R      mAP50  mAP50-95): 100%|██████████| 11/11 [00:04<00:00,  2.24it/s]"
          ]
        },
        {
          "output_type": "stream",
          "name": "stdout",
          "text": [
            "                   all        161       1996      0.795      0.814       0.87      0.761\n"
          ]
        },
        {
          "output_type": "stream",
          "name": "stderr",
          "text": [
            "\n"
          ]
        },
        {
          "output_type": "stream",
          "name": "stdout",
          "text": [
            "\n",
            "      Epoch    GPU_mem   box_loss   cls_loss   dfl_loss  Instances       Size\n"
          ]
        },
        {
          "output_type": "stream",
          "name": "stderr",
          "text": [
            "     89/100      9.08G     0.4498     0.3501     0.8677         73        640: 100%|██████████| 81/81 [00:51<00:00,  1.58it/s]\n",
            "                 Class     Images  Instances      Box(P          R      mAP50  mAP50-95): 100%|██████████| 11/11 [00:04<00:00,  2.23it/s]"
          ]
        },
        {
          "output_type": "stream",
          "name": "stdout",
          "text": [
            "                   all        161       1996      0.787      0.827      0.863      0.749\n"
          ]
        },
        {
          "output_type": "stream",
          "name": "stderr",
          "text": [
            "\n"
          ]
        },
        {
          "output_type": "stream",
          "name": "stdout",
          "text": [
            "\n",
            "      Epoch    GPU_mem   box_loss   cls_loss   dfl_loss  Instances       Size\n"
          ]
        },
        {
          "output_type": "stream",
          "name": "stderr",
          "text": [
            "     90/100      9.09G     0.4451      0.353     0.8703         87        640: 100%|██████████| 81/81 [00:50<00:00,  1.60it/s]\n",
            "                 Class     Images  Instances      Box(P          R      mAP50  mAP50-95): 100%|██████████| 11/11 [00:05<00:00,  2.14it/s]\n"
          ]
        },
        {
          "output_type": "stream",
          "name": "stdout",
          "text": [
            "                   all        161       1996      0.793      0.813      0.866      0.754\n",
            "Closing dataloader mosaic\n",
            "\u001b[34m\u001b[1malbumentations: \u001b[0mBlur(p=0.01, blur_limit=(3, 7)), MedianBlur(p=0.01, blur_limit=(3, 7)), ToGray(p=0.01, num_output_channels=3, method='weighted_average'), CLAHE(p=0.01, clip_limit=(1.0, 4.0), tile_grid_size=(8, 8))\n",
            "\n",
            "      Epoch    GPU_mem   box_loss   cls_loss   dfl_loss  Instances       Size\n"
          ]
        },
        {
          "output_type": "stream",
          "name": "stderr",
          "text": [
            "     91/100      9.07G     0.4071      0.322     0.8435         52        640: 100%|██████████| 81/81 [00:51<00:00,  1.58it/s]\n",
            "                 Class     Images  Instances      Box(P          R      mAP50  mAP50-95): 100%|██████████| 11/11 [00:05<00:00,  2.19it/s]"
          ]
        },
        {
          "output_type": "stream",
          "name": "stdout",
          "text": [
            "                   all        161       1996      0.807      0.802      0.859       0.75\n"
          ]
        },
        {
          "output_type": "stream",
          "name": "stderr",
          "text": [
            "\n"
          ]
        },
        {
          "output_type": "stream",
          "name": "stdout",
          "text": [
            "\n",
            "      Epoch    GPU_mem   box_loss   cls_loss   dfl_loss  Instances       Size\n"
          ]
        },
        {
          "output_type": "stream",
          "name": "stderr",
          "text": [
            "     92/100      9.12G     0.4115     0.3392     0.8417         27        640: 100%|██████████| 81/81 [00:50<00:00,  1.61it/s]\n",
            "                 Class     Images  Instances      Box(P          R      mAP50  mAP50-95): 100%|██████████| 11/11 [00:04<00:00,  2.24it/s]"
          ]
        },
        {
          "output_type": "stream",
          "name": "stdout",
          "text": [
            "                   all        161       1996       0.79      0.824      0.867      0.754\n"
          ]
        },
        {
          "output_type": "stream",
          "name": "stderr",
          "text": [
            "\n"
          ]
        },
        {
          "output_type": "stream",
          "name": "stdout",
          "text": [
            "\n",
            "      Epoch    GPU_mem   box_loss   cls_loss   dfl_loss  Instances       Size\n"
          ]
        },
        {
          "output_type": "stream",
          "name": "stderr",
          "text": [
            "     93/100      9.11G     0.4015        0.3     0.8412         15        640: 100%|██████████| 81/81 [00:50<00:00,  1.59it/s]\n",
            "                 Class     Images  Instances      Box(P          R      mAP50  mAP50-95): 100%|██████████| 11/11 [00:04<00:00,  2.23it/s]"
          ]
        },
        {
          "output_type": "stream",
          "name": "stdout",
          "text": [
            "                   all        161       1996      0.818      0.794      0.867      0.755\n"
          ]
        },
        {
          "output_type": "stream",
          "name": "stderr",
          "text": [
            "\n"
          ]
        },
        {
          "output_type": "stream",
          "name": "stdout",
          "text": [
            "\n",
            "      Epoch    GPU_mem   box_loss   cls_loss   dfl_loss  Instances       Size\n"
          ]
        },
        {
          "output_type": "stream",
          "name": "stderr",
          "text": [
            "     94/100      8.93G     0.4003     0.3052     0.8466         21        640: 100%|██████████| 81/81 [00:50<00:00,  1.60it/s]\n",
            "                 Class     Images  Instances      Box(P          R      mAP50  mAP50-95): 100%|██████████| 11/11 [00:04<00:00,  2.23it/s]"
          ]
        },
        {
          "output_type": "stream",
          "name": "stdout",
          "text": [
            "                   all        161       1996      0.792      0.815       0.86      0.748\n"
          ]
        },
        {
          "output_type": "stream",
          "name": "stderr",
          "text": [
            "\n"
          ]
        },
        {
          "output_type": "stream",
          "name": "stdout",
          "text": [
            "\n",
            "      Epoch    GPU_mem   box_loss   cls_loss   dfl_loss  Instances       Size\n"
          ]
        },
        {
          "output_type": "stream",
          "name": "stderr",
          "text": [
            "     95/100      9.07G     0.4022     0.2863     0.8426         55        640: 100%|██████████| 81/81 [00:50<00:00,  1.61it/s]\n",
            "                 Class     Images  Instances      Box(P          R      mAP50  mAP50-95): 100%|██████████| 11/11 [00:05<00:00,  2.11it/s]"
          ]
        },
        {
          "output_type": "stream",
          "name": "stdout",
          "text": [
            "                   all        161       1996      0.798      0.813      0.866      0.754\n"
          ]
        },
        {
          "output_type": "stream",
          "name": "stderr",
          "text": [
            "\n"
          ]
        },
        {
          "output_type": "stream",
          "name": "stdout",
          "text": [
            "\n",
            "      Epoch    GPU_mem   box_loss   cls_loss   dfl_loss  Instances       Size\n"
          ]
        },
        {
          "output_type": "stream",
          "name": "stderr",
          "text": [
            "     96/100       9.1G      0.398     0.2881     0.8381         12        640: 100%|██████████| 81/81 [00:50<00:00,  1.62it/s]\n",
            "                 Class     Images  Instances      Box(P          R      mAP50  mAP50-95): 100%|██████████| 11/11 [00:05<00:00,  2.14it/s]"
          ]
        },
        {
          "output_type": "stream",
          "name": "stdout",
          "text": [
            "                   all        161       1996        0.8      0.828      0.867      0.758\n"
          ]
        },
        {
          "output_type": "stream",
          "name": "stderr",
          "text": [
            "\n"
          ]
        },
        {
          "output_type": "stream",
          "name": "stdout",
          "text": [
            "\n",
            "      Epoch    GPU_mem   box_loss   cls_loss   dfl_loss  Instances       Size\n"
          ]
        },
        {
          "output_type": "stream",
          "name": "stderr",
          "text": [
            "     97/100      9.12G     0.3969     0.2889     0.8385         52        640: 100%|██████████| 81/81 [00:50<00:00,  1.61it/s]\n",
            "                 Class     Images  Instances      Box(P          R      mAP50  mAP50-95): 100%|██████████| 11/11 [00:04<00:00,  2.22it/s]"
          ]
        },
        {
          "output_type": "stream",
          "name": "stdout",
          "text": [
            "                   all        161       1996      0.817      0.803      0.868      0.756\n"
          ]
        },
        {
          "output_type": "stream",
          "name": "stderr",
          "text": [
            "\n"
          ]
        },
        {
          "output_type": "stream",
          "name": "stdout",
          "text": [
            "\n",
            "      Epoch    GPU_mem   box_loss   cls_loss   dfl_loss  Instances       Size\n"
          ]
        },
        {
          "output_type": "stream",
          "name": "stderr",
          "text": [
            "     98/100      9.12G     0.3918     0.3092     0.8372         50        640: 100%|██████████| 81/81 [00:50<00:00,  1.60it/s]\n",
            "                 Class     Images  Instances      Box(P          R      mAP50  mAP50-95): 100%|██████████| 11/11 [00:04<00:00,  2.25it/s]"
          ]
        },
        {
          "output_type": "stream",
          "name": "stdout",
          "text": [
            "                   all        161       1996      0.819      0.809      0.868      0.756\n"
          ]
        },
        {
          "output_type": "stream",
          "name": "stderr",
          "text": [
            "\n"
          ]
        },
        {
          "output_type": "stream",
          "name": "stdout",
          "text": [
            "\n",
            "      Epoch    GPU_mem   box_loss   cls_loss   dfl_loss  Instances       Size\n"
          ]
        },
        {
          "output_type": "stream",
          "name": "stderr",
          "text": [
            "     99/100      9.08G     0.3944     0.2783     0.8391         42        640: 100%|██████████| 81/81 [00:50<00:00,  1.60it/s]\n",
            "                 Class     Images  Instances      Box(P          R      mAP50  mAP50-95): 100%|██████████| 11/11 [00:04<00:00,  2.24it/s]"
          ]
        },
        {
          "output_type": "stream",
          "name": "stdout",
          "text": [
            "                   all        161       1996      0.814       0.81      0.868      0.757\n"
          ]
        },
        {
          "output_type": "stream",
          "name": "stderr",
          "text": [
            "\n"
          ]
        },
        {
          "output_type": "stream",
          "name": "stdout",
          "text": [
            "\n",
            "      Epoch    GPU_mem   box_loss   cls_loss   dfl_loss  Instances       Size\n"
          ]
        },
        {
          "output_type": "stream",
          "name": "stderr",
          "text": [
            "    100/100      9.06G      0.387     0.2816     0.8373         46        640: 100%|██████████| 81/81 [00:50<00:00,  1.60it/s]\n",
            "                 Class     Images  Instances      Box(P          R      mAP50  mAP50-95): 100%|██████████| 11/11 [00:04<00:00,  2.24it/s]"
          ]
        },
        {
          "output_type": "stream",
          "name": "stdout",
          "text": [
            "                   all        161       1996      0.807      0.815      0.866      0.758\n"
          ]
        },
        {
          "output_type": "stream",
          "name": "stderr",
          "text": [
            "\n"
          ]
        },
        {
          "output_type": "stream",
          "name": "stdout",
          "text": [
            "\n",
            "100 epochs completed in 1.787 hours.\n",
            "Optimizer stripped from runs/detect/train/weights/last.pt, 114.4MB\n",
            "Optimizer stripped from runs/detect/train/weights/best.pt, 114.4MB\n",
            "\n",
            "Validating runs/detect/train/weights/best.pt...\n",
            "Ultralytics 8.3.51 🚀 Python-3.10.12 torch-2.5.1+cu121 CUDA:0 (Tesla T4, 15102MiB)\n",
            "YOLO11x summary (fused): 464 layers, 56,833,954 parameters, 0 gradients, 194.4 GFLOPs\n"
          ]
        },
        {
          "output_type": "stream",
          "name": "stderr",
          "text": [
            "                 Class     Images  Instances      Box(P          R      mAP50  mAP50-95): 100%|██████████| 11/11 [00:10<00:00,  1.07it/s]\n"
          ]
        },
        {
          "output_type": "stream",
          "name": "stdout",
          "text": [
            "                   all        161       1996      0.838      0.798      0.883      0.769\n",
            "         katta_pishgan         40         72      0.814      0.792      0.863      0.774\n",
            "       katta_pishmagan         71        387      0.914      0.879      0.949      0.828\n",
            "   katta_yarim_pishgan         52        116       0.78      0.802      0.856      0.748\n",
            "        kichik_pishgan         59        269       0.84      0.762      0.891      0.783\n",
            "      kichik_pishmagan         69        929        0.9      0.817      0.914      0.753\n",
            "  kichik_yarim_pishgan         67        223      0.777       0.74      0.824      0.728\n",
            "Speed: 0.5ms preprocess, 26.7ms inference, 0.0ms loss, 8.3ms postprocess per image\n",
            "Results saved to \u001b[1mruns/detect/train\u001b[0m\n"
          ]
        }
      ]
    },
    {
      "cell_type": "code",
      "source": [
        "result = model.predict(source=\"/content/test_img1.jpg\", save=True)"
      ],
      "metadata": {
        "colab": {
          "base_uri": "https://localhost:8080/"
        },
        "id": "OPPAVLvSvXY_",
        "outputId": "5000b6e0-a57c-42e0-bca4-f1cb00b55d96"
      },
      "execution_count": 7,
      "outputs": [
        {
          "output_type": "stream",
          "name": "stdout",
          "text": [
            "\n",
            "image 1/1 /content/test_img1.jpg: 576x640 1 katta_pishgan, 84.7ms\n",
            "Speed: 4.1ms preprocess, 84.7ms inference, 2.0ms postprocess per image at shape (1, 3, 576, 640)\n",
            "Results saved to \u001b[1mruns/detect/train3\u001b[0m\n"
          ]
        }
      ]
    },
    {
      "cell_type": "code",
      "source": [
        "first_result = result[0]\n",
        "first_result.plot()"
      ],
      "metadata": {
        "colab": {
          "base_uri": "https://localhost:8080/",
          "height": 189
        },
        "id": "za_cm2NevuCb",
        "outputId": "6ea85cda-3bc0-4de1-8469-ac2a42b65e80"
      },
      "execution_count": 9,
      "outputs": [
        {
          "output_type": "execute_result",
          "data": {
            "text/plain": [
              "array([[[255, 255, 255],\n",
              "        [255, 255, 255],\n",
              "        [255, 255, 255],\n",
              "        ...,\n",
              "        [255, 255, 255],\n",
              "        [255, 255, 255],\n",
              "        [255, 255, 255]],\n",
              "\n",
              "       [[255, 255, 255],\n",
              "        [255, 255, 255],\n",
              "        [255, 255, 255],\n",
              "        ...,\n",
              "        [255, 255, 255],\n",
              "        [255, 255, 255],\n",
              "        [255, 255, 255]],\n",
              "\n",
              "       [[255, 255, 255],\n",
              "        [255, 255, 255],\n",
              "        [255, 255, 255],\n",
              "        ...,\n",
              "        [255, 255, 255],\n",
              "        [255, 255, 255],\n",
              "        [255, 255, 255]],\n",
              "\n",
              "       ...,\n",
              "\n",
              "       [[255, 255, 255],\n",
              "        [255, 255, 255],\n",
              "        [255, 255, 255],\n",
              "        ...,\n",
              "        [255, 255, 255],\n",
              "        [255, 255, 255],\n",
              "        [255, 255, 255]],\n",
              "\n",
              "       [[255, 255, 255],\n",
              "        [255, 255, 255],\n",
              "        [255, 255, 255],\n",
              "        ...,\n",
              "        [255, 255, 255],\n",
              "        [255, 255, 255],\n",
              "        [255, 255, 255]],\n",
              "\n",
              "       [[255, 255, 255],\n",
              "        [255, 255, 255],\n",
              "        [255, 255, 255],\n",
              "        ...,\n",
              "        [255, 255, 255],\n",
              "        [255, 255, 255],\n",
              "        [255, 255, 255]]], dtype=uint8)"
            ],
            "text/html": [
              "<style>\n",
              "      .ndarray_repr .ndarray_raw_data {\n",
              "        display: none;\n",
              "      }\n",
              "      .ndarray_repr.show_array .ndarray_raw_data {\n",
              "        display: block;\n",
              "      }\n",
              "      .ndarray_repr.show_array .ndarray_image_preview {\n",
              "        display: none;\n",
              "      }\n",
              "      </style>\n",
              "      <div id=\"id-8b258578-393e-4450-a373-327919cfbe0f\" class=\"ndarray_repr\"><pre>ndarray (148, 172, 3) <button style=\"padding: 0 2px;\">show data</button></pre><img src=\"data:image/png;base64,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\" class=\"ndarray_image_preview\" /><pre class=\"ndarray_raw_data\">array([[[255, 255, 255],\n",
              "        [255, 255, 255],\n",
              "        [255, 255, 255],\n",
              "        ...,\n",
              "        [255, 255, 255],\n",
              "        [255, 255, 255],\n",
              "        [255, 255, 255]],\n",
              "\n",
              "       [[255, 255, 255],\n",
              "        [255, 255, 255],\n",
              "        [255, 255, 255],\n",
              "        ...,\n",
              "        [255, 255, 255],\n",
              "        [255, 255, 255],\n",
              "        [255, 255, 255]],\n",
              "\n",
              "       [[255, 255, 255],\n",
              "        [255, 255, 255],\n",
              "        [255, 255, 255],\n",
              "        ...,\n",
              "        [255, 255, 255],\n",
              "        [255, 255, 255],\n",
              "        [255, 255, 255]],\n",
              "\n",
              "       ...,\n",
              "\n",
              "       [[255, 255, 255],\n",
              "        [255, 255, 255],\n",
              "        [255, 255, 255],\n",
              "        ...,\n",
              "        [255, 255, 255],\n",
              "        [255, 255, 255],\n",
              "        [255, 255, 255]],\n",
              "\n",
              "       [[255, 255, 255],\n",
              "        [255, 255, 255],\n",
              "        [255, 255, 255],\n",
              "        ...,\n",
              "        [255, 255, 255],\n",
              "        [255, 255, 255],\n",
              "        [255, 255, 255]],\n",
              "\n",
              "       [[255, 255, 255],\n",
              "        [255, 255, 255],\n",
              "        [255, 255, 255],\n",
              "        ...,\n",
              "        [255, 255, 255],\n",
              "        [255, 255, 255],\n",
              "        [255, 255, 255]]], dtype=uint8)</pre></div><script>\n",
              "      (() => {\n",
              "      const titles = ['show data', 'hide data'];\n",
              "      let index = 0\n",
              "      document.querySelector('#id-8b258578-393e-4450-a373-327919cfbe0f button').onclick = (e) => {\n",
              "        document.querySelector('#id-8b258578-393e-4450-a373-327919cfbe0f').classList.toggle('show_array');\n",
              "        index = (++index) % 2;\n",
              "        document.querySelector('#id-8b258578-393e-4450-a373-327919cfbe0f button').textContent = titles[index];\n",
              "        e.preventDefault();\n",
              "        e.stopPropagation();\n",
              "      }\n",
              "      })();\n",
              "    </script>"
            ]
          },
          "metadata": {},
          "execution_count": 9
        }
      ]
    },
    {
      "cell_type": "code",
      "source": [
        "import shutil\n",
        "from google.colab import files\n",
        "\n",
        "# Papka yo'li\n",
        "folder_path = \"/content/runs\"\n",
        "\n",
        "# Papkani zip formatiga o'rash\n",
        "shutil.make_archive(\"runs\", 'zip', folder_path)\n",
        "\n",
        "# Zip faylni yuklab olish\n",
        "files.download(\"runs.zip\")"
      ],
      "metadata": {
        "colab": {
          "base_uri": "https://localhost:8080/",
          "height": 17
        },
        "id": "_4yK_QzYqsmz",
        "outputId": "34843501-7131-4114-d041-5d5cc6f4f95f"
      },
      "execution_count": 5,
      "outputs": [
        {
          "output_type": "display_data",
          "data": {
            "text/plain": [
              "<IPython.core.display.Javascript object>"
            ],
            "application/javascript": [
              "\n",
              "    async function download(id, filename, size) {\n",
              "      if (!google.colab.kernel.accessAllowed) {\n",
              "        return;\n",
              "      }\n",
              "      const div = document.createElement('div');\n",
              "      const label = document.createElement('label');\n",
              "      label.textContent = `Downloading \"${filename}\": `;\n",
              "      div.appendChild(label);\n",
              "      const progress = document.createElement('progress');\n",
              "      progress.max = size;\n",
              "      div.appendChild(progress);\n",
              "      document.body.appendChild(div);\n",
              "\n",
              "      const buffers = [];\n",
              "      let downloaded = 0;\n",
              "\n",
              "      const channel = await google.colab.kernel.comms.open(id);\n",
              "      // Send a message to notify the kernel that we're ready.\n",
              "      channel.send({})\n",
              "\n",
              "      for await (const message of channel.messages) {\n",
              "        // Send a message to notify the kernel that we're ready.\n",
              "        channel.send({})\n",
              "        if (message.buffers) {\n",
              "          for (const buffer of message.buffers) {\n",
              "            buffers.push(buffer);\n",
              "            downloaded += buffer.byteLength;\n",
              "            progress.value = downloaded;\n",
              "          }\n",
              "        }\n",
              "      }\n",
              "      const blob = new Blob(buffers, {type: 'application/binary'});\n",
              "      const a = document.createElement('a');\n",
              "      a.href = window.URL.createObjectURL(blob);\n",
              "      a.download = filename;\n",
              "      div.appendChild(a);\n",
              "      a.click();\n",
              "      div.remove();\n",
              "    }\n",
              "  "
            ]
          },
          "metadata": {}
        },
        {
          "output_type": "display_data",
          "data": {
            "text/plain": [
              "<IPython.core.display.Javascript object>"
            ],
            "application/javascript": [
              "download(\"download_7726d3e1-4fc3-4133-ae94-487584514938\", \"runs.zip\", 221351083)"
            ]
          },
          "metadata": {}
        }
      ]
    }
  ]
}